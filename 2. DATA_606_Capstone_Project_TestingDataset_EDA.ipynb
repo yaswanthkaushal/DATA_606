{
  "nbformat": 4,
  "nbformat_minor": 0,
  "metadata": {
    "colab": {
      "name": "DATA_606_Capstone_Project_TestingDataset_EDA.ipynb",
      "provenance": [],
      "collapsed_sections": [],
      "machine_shape": "hm"
    },
    "kernelspec": {
      "display_name": "Python 3",
      "name": "python3"
    }
  },
  "cells": [
    {
      "cell_type": "code",
      "metadata": {
        "id": "Wg-p8Jkm8C05"
      },
      "source": [
        "# Intializing libraries\n",
        "\n",
        "import pandas as pd\n",
        "import numpy as np\n",
        "import time\n",
        "import matplotlib.pyplot as plt\n",
        "import seaborn as sns\n",
        "import calendar"
      ],
      "execution_count": 1,
      "outputs": []
    },
    {
      "cell_type": "code",
      "metadata": {
        "id": "IdWHUa0K1GUO",
        "colab": {
          "base_uri": "https://localhost:8080/"
        },
        "outputId": "6ffe7702-0423-4431-d941-a966446bb329"
      },
      "source": [
        "# Connecting to Google Drive folder\n",
        "\n",
        "from google.colab import drive\n",
        "drive.mount('/content/gdrive/')\n",
        "import sys\n",
        "sys.path.append('/content/gdrive/MyDrive/DATA 606 - Capstone Project/')"
      ],
      "execution_count": 2,
      "outputs": [
        {
          "output_type": "stream",
          "text": [
            "Mounted at /content/gdrive/\n"
          ],
          "name": "stdout"
        }
      ]
    },
    {
      "cell_type": "code",
      "metadata": {
        "colab": {
          "base_uri": "https://localhost:8080/"
        },
        "id": "W6U-EhxdJLX-",
        "outputId": "7b5115f5-6c25-45f7-8b2d-8d4234f3ab23"
      },
      "source": [
        "# Loading the dataset into a dataframe from Google Drive\n",
        "\n",
        "df = pd.read_csv('/content/gdrive/MyDrive/DATA 606 - Capstone Project/amazon_reviews_multilingual_US_v1_00.tsv', sep='\\t', error_bad_lines=False)"
      ],
      "execution_count": 3,
      "outputs": [
        {
          "output_type": "stream",
          "text": [
            "b'Skipping line 3231472: expected 15 fields, saw 22\\n'\n",
            "b'Skipping line 3509762: expected 15 fields, saw 22\\n'\n",
            "b'Skipping line 4018793: expected 15 fields, saw 22\\n'\n",
            "b'Skipping line 4280173: expected 15 fields, saw 22\\nSkipping line 4290596: expected 15 fields, saw 22\\n'\n",
            "b'Skipping line 4331421: expected 15 fields, saw 22\\nSkipping line 4340267: expected 15 fields, saw 22\\nSkipping line 4341665: expected 15 fields, saw 22\\nSkipping line 4386155: expected 15 fields, saw 22\\nSkipping line 4388098: expected 15 fields, saw 22\\n'\n",
            "b'Skipping line 4408027: expected 15 fields, saw 22\\nSkipping line 4442615: expected 15 fields, saw 22\\n'\n",
            "b'Skipping line 4519623: expected 15 fields, saw 22\\n'\n",
            "b'Skipping line 4525797: expected 15 fields, saw 22\\nSkipping line 4543519: expected 15 fields, saw 22\\n'\n",
            "b'Skipping line 4587726: expected 15 fields, saw 22\\nSkipping line 4589301: expected 15 fields, saw 22\\nSkipping line 4634393: expected 15 fields, saw 22\\n'\n",
            "b'Skipping line 4666168: expected 15 fields, saw 22\\n'\n",
            "b'Skipping line 4725035: expected 15 fields, saw 22\\nSkipping line 4741340: expected 15 fields, saw 22\\nSkipping line 4749515: expected 15 fields, saw 22\\nSkipping line 4760314: expected 15 fields, saw 22\\nSkipping line 4781100: expected 15 fields, saw 22\\n'\n",
            "b'Skipping line 4792732: expected 15 fields, saw 22\\n'\n",
            "b'Skipping line 4856383: expected 15 fields, saw 22\\nSkipping line 4866949: expected 15 fields, saw 22\\nSkipping line 4873905: expected 15 fields, saw 22\\nSkipping line 4882587: expected 15 fields, saw 22\\n'\n",
            "b'Skipping line 4984486: expected 15 fields, saw 22\\nSkipping line 4999513: expected 15 fields, saw 22\\nSkipping line 5042461: expected 15 fields, saw 22\\n'\n",
            "b'Skipping line 5084499: expected 15 fields, saw 22\\n'\n",
            "b'Skipping line 5118966: expected 15 fields, saw 22\\n'\n",
            "b'Skipping line 5242122: expected 15 fields, saw 22\\n'\n",
            "b'Skipping line 5267808: expected 15 fields, saw 22\\nSkipping line 5272340: expected 15 fields, saw 22\\n'\n",
            "b'Skipping line 5392789: expected 15 fields, saw 22\\nSkipping line 5401043: expected 15 fields, saw 22\\n'\n",
            "b'Skipping line 5558186: expected 15 fields, saw 22\\n'\n",
            "b'Skipping line 5789638: expected 15 fields, saw 22\\nSkipping line 5812305: expected 15 fields, saw 22\\nSkipping line 5817900: expected 15 fields, saw 22\\nSkipping line 5829969: expected 15 fields, saw 22\\n'\n",
            "b'Skipping line 5842003: expected 15 fields, saw 22\\nSkipping line 5876691: expected 15 fields, saw 22\\nSkipping line 5882689: expected 15 fields, saw 22\\n'\n",
            "b'Skipping line 5909437: expected 15 fields, saw 22\\n'\n",
            "b'Skipping line 6008511: expected 15 fields, saw 22\\nSkipping line 6024504: expected 15 fields, saw 22\\nSkipping line 6025541: expected 15 fields, saw 22\\n'\n",
            "b'Skipping line 6065764: expected 15 fields, saw 22\\nSkipping line 6077731: expected 15 fields, saw 22\\nSkipping line 6087087: expected 15 fields, saw 22\\n'\n",
            "b'Skipping line 6141216: expected 15 fields, saw 22\\n'\n",
            "b'Skipping line 6284307: expected 15 fields, saw 22\\n'\n",
            "b'Skipping line 6294536: expected 15 fields, saw 22\\nSkipping line 6343210: expected 15 fields, saw 22\\nSkipping line 6351051: expected 15 fields, saw 22\\nSkipping line 6356803: expected 15 fields, saw 22\\n'\n",
            "b'Skipping line 6359236: expected 15 fields, saw 22\\n'\n",
            "b'Skipping line 6461006: expected 15 fields, saw 22\\nSkipping line 6467831: expected 15 fields, saw 22\\nSkipping line 6469554: expected 15 fields, saw 22\\n'\n",
            "b'Skipping line 6492735: expected 15 fields, saw 22\\n'\n",
            "b'Skipping line 6570155: expected 15 fields, saw 22\\n'\n",
            "b'Skipping line 6657117: expected 15 fields, saw 22\\n'\n",
            "b'Skipping line 6743804: expected 15 fields, saw 22\\n'\n"
          ],
          "name": "stderr"
        }
      ]
    },
    {
      "cell_type": "markdown",
      "metadata": {
        "id": "kC-BSa19C5zg"
      },
      "source": [
        "**The dataset has been loaded into the dataframe and bad records have been skipped.**"
      ]
    },
    {
      "cell_type": "code",
      "metadata": {
        "colab": {
          "base_uri": "https://localhost:8080/"
        },
        "id": "x4Pyb45X3syK",
        "outputId": "04bf7976-7ae3-4533-b0a3-1f7fcccd5423"
      },
      "source": [
        "# Dataframe Shape\n",
        "\n",
        "df.shape"
      ],
      "execution_count": 4,
      "outputs": [
        {
          "output_type": "execute_result",
          "data": {
            "text/plain": [
              "(6900886, 15)"
            ]
          },
          "metadata": {
            "tags": []
          },
          "execution_count": 4
        }
      ]
    },
    {
      "cell_type": "code",
      "metadata": {
        "colab": {
          "base_uri": "https://localhost:8080/"
        },
        "id": "aIUaoUl_2K6i",
        "outputId": "eac92593-0112-4286-c327-9a593d66d109"
      },
      "source": [
        "# Summary of the dataframe\n",
        "\n",
        "df.info()"
      ],
      "execution_count": 5,
      "outputs": [
        {
          "output_type": "stream",
          "text": [
            "<class 'pandas.core.frame.DataFrame'>\n",
            "RangeIndex: 6900886 entries, 0 to 6900885\n",
            "Data columns (total 15 columns):\n",
            " #   Column             Dtype  \n",
            "---  ------             -----  \n",
            " 0   marketplace        object \n",
            " 1   customer_id        int64  \n",
            " 2   review_id          object \n",
            " 3   product_id         object \n",
            " 4   product_parent     int64  \n",
            " 5   product_title      object \n",
            " 6   product_category   object \n",
            " 7   star_rating        float64\n",
            " 8   helpful_votes      float64\n",
            " 9   total_votes        float64\n",
            " 10  vine               object \n",
            " 11  verified_purchase  object \n",
            " 12  review_headline    object \n",
            " 13  review_body        object \n",
            " 14  review_date        object \n",
            "dtypes: float64(3), int64(2), object(10)\n",
            "memory usage: 789.7+ MB\n"
          ],
          "name": "stdout"
        }
      ]
    },
    {
      "cell_type": "code",
      "metadata": {
        "colab": {
          "base_uri": "https://localhost:8080/",
          "height": 484
        },
        "id": "ZwTvvF0BJar6",
        "outputId": "89ca713e-9dc4-4d4e-8403-5be832b5afb0"
      },
      "source": [
        "# First 5 rows of the dataset\n",
        "\n",
        "df.head()"
      ],
      "execution_count": 6,
      "outputs": [
        {
          "output_type": "execute_result",
          "data": {
            "text/html": [
              "<div>\n",
              "<style scoped>\n",
              "    .dataframe tbody tr th:only-of-type {\n",
              "        vertical-align: middle;\n",
              "    }\n",
              "\n",
              "    .dataframe tbody tr th {\n",
              "        vertical-align: top;\n",
              "    }\n",
              "\n",
              "    .dataframe thead th {\n",
              "        text-align: right;\n",
              "    }\n",
              "</style>\n",
              "<table border=\"1\" class=\"dataframe\">\n",
              "  <thead>\n",
              "    <tr style=\"text-align: right;\">\n",
              "      <th></th>\n",
              "      <th>marketplace</th>\n",
              "      <th>customer_id</th>\n",
              "      <th>review_id</th>\n",
              "      <th>product_id</th>\n",
              "      <th>product_parent</th>\n",
              "      <th>product_title</th>\n",
              "      <th>product_category</th>\n",
              "      <th>star_rating</th>\n",
              "      <th>helpful_votes</th>\n",
              "      <th>total_votes</th>\n",
              "      <th>vine</th>\n",
              "      <th>verified_purchase</th>\n",
              "      <th>review_headline</th>\n",
              "      <th>review_body</th>\n",
              "      <th>review_date</th>\n",
              "    </tr>\n",
              "  </thead>\n",
              "  <tbody>\n",
              "    <tr>\n",
              "      <th>0</th>\n",
              "      <td>US</td>\n",
              "      <td>53096384</td>\n",
              "      <td>R63J84G1LOX6R</td>\n",
              "      <td>1563890119</td>\n",
              "      <td>763187671</td>\n",
              "      <td>The Sandman Vol. 1: Preludes and Nocturnes</td>\n",
              "      <td>Books</td>\n",
              "      <td>4.0</td>\n",
              "      <td>0.0</td>\n",
              "      <td>1.0</td>\n",
              "      <td>N</td>\n",
              "      <td>N</td>\n",
              "      <td>ignore the review below</td>\n",
              "      <td>this is the first 8 issues of the series. it i...</td>\n",
              "      <td>1995-08-13</td>\n",
              "    </tr>\n",
              "    <tr>\n",
              "      <th>1</th>\n",
              "      <td>US</td>\n",
              "      <td>53096399</td>\n",
              "      <td>R1BALOA11Z06MT</td>\n",
              "      <td>1559947608</td>\n",
              "      <td>381720534</td>\n",
              "      <td>The 22 Immutable Laws of Marketing</td>\n",
              "      <td>Books</td>\n",
              "      <td>4.0</td>\n",
              "      <td>0.0</td>\n",
              "      <td>0.0</td>\n",
              "      <td>N</td>\n",
              "      <td>N</td>\n",
              "      <td>awesome</td>\n",
              "      <td>I've always been partial to immutable laws. Th...</td>\n",
              "      <td>1995-08-17</td>\n",
              "    </tr>\n",
              "    <tr>\n",
              "      <th>2</th>\n",
              "      <td>US</td>\n",
              "      <td>53096332</td>\n",
              "      <td>R1LLAY5W5PZUS4</td>\n",
              "      <td>0671701800</td>\n",
              "      <td>860650224</td>\n",
              "      <td>Contact</td>\n",
              "      <td>Books</td>\n",
              "      <td>5.0</td>\n",
              "      <td>1.0</td>\n",
              "      <td>2.0</td>\n",
              "      <td>N</td>\n",
              "      <td>N</td>\n",
              "      <td>Read the book. It's good.</td>\n",
              "      <td>This is a book about first contact with aliens...</td>\n",
              "      <td>1995-08-30</td>\n",
              "    </tr>\n",
              "    <tr>\n",
              "      <th>3</th>\n",
              "      <td>US</td>\n",
              "      <td>53096335</td>\n",
              "      <td>R3R9VTJ82FXECQ</td>\n",
              "      <td>0425132153</td>\n",
              "      <td>624269601</td>\n",
              "      <td>Good Omens</td>\n",
              "      <td>Books</td>\n",
              "      <td>5.0</td>\n",
              "      <td>0.0</td>\n",
              "      <td>0.0</td>\n",
              "      <td>N</td>\n",
              "      <td>N</td>\n",
              "      <td>Funniest book ever written about the Anti-Christ</td>\n",
              "      <td>This is quite possibly *the* funniest book I h...</td>\n",
              "      <td>1995-09-11</td>\n",
              "    </tr>\n",
              "    <tr>\n",
              "      <th>4</th>\n",
              "      <td>US</td>\n",
              "      <td>51747709</td>\n",
              "      <td>R1P5J3FNBWTFXY</td>\n",
              "      <td>0517122707</td>\n",
              "      <td>161411385</td>\n",
              "      <td>A Confederacy of Dunces</td>\n",
              "      <td>Books</td>\n",
              "      <td>5.0</td>\n",
              "      <td>0.0</td>\n",
              "      <td>0.0</td>\n",
              "      <td>N</td>\n",
              "      <td>N</td>\n",
              "      <td>A winner that didn't last. Only a mothers love...</td>\n",
              "      <td>The story behind the book is almost better tha...</td>\n",
              "      <td>1995-10-17</td>\n",
              "    </tr>\n",
              "  </tbody>\n",
              "</table>\n",
              "</div>"
            ],
            "text/plain": [
              "  marketplace  ...  review_date\n",
              "0          US  ...   1995-08-13\n",
              "1          US  ...   1995-08-17\n",
              "2          US  ...   1995-08-30\n",
              "3          US  ...   1995-09-11\n",
              "4          US  ...   1995-10-17\n",
              "\n",
              "[5 rows x 15 columns]"
            ]
          },
          "metadata": {
            "tags": []
          },
          "execution_count": 6
        }
      ]
    },
    {
      "cell_type": "code",
      "metadata": {
        "colab": {
          "base_uri": "https://localhost:8080/"
        },
        "id": "kNd5wd_52tPK",
        "outputId": "9b0e6ac2-604e-4dbc-b892-9cbbba7ea791"
      },
      "source": [
        "# Checking for null values\n",
        "\n",
        "df.isna().sum()"
      ],
      "execution_count": 7,
      "outputs": [
        {
          "output_type": "execute_result",
          "data": {
            "text/plain": [
              "marketplace            0\n",
              "customer_id            0\n",
              "review_id              0\n",
              "product_id             0\n",
              "product_parent         0\n",
              "product_title          0\n",
              "product_category       0\n",
              "star_rating            1\n",
              "helpful_votes          1\n",
              "total_votes            1\n",
              "vine                   1\n",
              "verified_purchase      1\n",
              "review_headline       75\n",
              "review_body           76\n",
              "review_date          324\n",
              "dtype: int64"
            ]
          },
          "metadata": {
            "tags": []
          },
          "execution_count": 7
        }
      ]
    },
    {
      "cell_type": "code",
      "metadata": {
        "colab": {
          "base_uri": "https://localhost:8080/",
          "height": 366
        },
        "id": "5EvHZMVciVT6",
        "outputId": "cbf742fa-6be9-4a78-db99-e2492456aa7e"
      },
      "source": [
        "# Moving rows with null values into a dataframe\n",
        "\n",
        "null_values = df[df.isna().any(axis=1)]\n",
        "null_values.head()"
      ],
      "execution_count": 8,
      "outputs": [
        {
          "output_type": "execute_result",
          "data": {
            "text/html": [
              "<div>\n",
              "<style scoped>\n",
              "    .dataframe tbody tr th:only-of-type {\n",
              "        vertical-align: middle;\n",
              "    }\n",
              "\n",
              "    .dataframe tbody tr th {\n",
              "        vertical-align: top;\n",
              "    }\n",
              "\n",
              "    .dataframe thead th {\n",
              "        text-align: right;\n",
              "    }\n",
              "</style>\n",
              "<table border=\"1\" class=\"dataframe\">\n",
              "  <thead>\n",
              "    <tr style=\"text-align: right;\">\n",
              "      <th></th>\n",
              "      <th>marketplace</th>\n",
              "      <th>customer_id</th>\n",
              "      <th>review_id</th>\n",
              "      <th>product_id</th>\n",
              "      <th>product_parent</th>\n",
              "      <th>product_title</th>\n",
              "      <th>product_category</th>\n",
              "      <th>star_rating</th>\n",
              "      <th>helpful_votes</th>\n",
              "      <th>total_votes</th>\n",
              "      <th>vine</th>\n",
              "      <th>verified_purchase</th>\n",
              "      <th>review_headline</th>\n",
              "      <th>review_body</th>\n",
              "      <th>review_date</th>\n",
              "    </tr>\n",
              "  </thead>\n",
              "  <tbody>\n",
              "    <tr>\n",
              "      <th>142642</th>\n",
              "      <td>US</td>\n",
              "      <td>52767614</td>\n",
              "      <td>RJBEAQJ92LS61</td>\n",
              "      <td>B00003CXDG</td>\n",
              "      <td>765637830</td>\n",
              "      <td>Mission: Impossible 2 (Widescreen Edition)</td>\n",
              "      <td>Video DVD</td>\n",
              "      <td>2.0</td>\n",
              "      <td>0.0</td>\n",
              "      <td>0.0</td>\n",
              "      <td>N</td>\n",
              "      <td>N</td>\n",
              "      <td>Technology is not always beneficial -\\tespecia...</td>\n",
              "      <td>2001-03-08</td>\n",
              "      <td>NaN</td>\n",
              "    </tr>\n",
              "    <tr>\n",
              "      <th>144995</th>\n",
              "      <td>US</td>\n",
              "      <td>51263804</td>\n",
              "      <td>RRR6EK045G5YL</td>\n",
              "      <td>630438551X</td>\n",
              "      <td>212477251</td>\n",
              "      <td>Romeo &amp; Juliet [VHS]</td>\n",
              "      <td>Video</td>\n",
              "      <td>5.0</td>\n",
              "      <td>4.0</td>\n",
              "      <td>8.0</td>\n",
              "      <td>N</td>\n",
              "      <td>N</td>\n",
              "      <td>NaN</td>\n",
              "      <td>I consider myself to be a pretty much diehard ...</td>\n",
              "      <td>2001-03-21</td>\n",
              "    </tr>\n",
              "    <tr>\n",
              "      <th>186564</th>\n",
              "      <td>US</td>\n",
              "      <td>50374272</td>\n",
              "      <td>R2LXX6V7B1PICZ</td>\n",
              "      <td>B00005OB0A</td>\n",
              "      <td>321992753</td>\n",
              "      <td>Fever</td>\n",
              "      <td>Music</td>\n",
              "      <td>5.0</td>\n",
              "      <td>0.0</td>\n",
              "      <td>0.0</td>\n",
              "      <td>N</td>\n",
              "      <td>N</td>\n",
              "      <td>The music you were playing really blew my mind...</td>\n",
              "      <td>2001-10-25</td>\n",
              "      <td>NaN</td>\n",
              "    </tr>\n",
              "    <tr>\n",
              "      <th>217791</th>\n",
              "      <td>US</td>\n",
              "      <td>42627253</td>\n",
              "      <td>R1CRCYSML85MB4</td>\n",
              "      <td>B00005JKZQ</td>\n",
              "      <td>167276143</td>\n",
              "      <td>Showtime</td>\n",
              "      <td>Video DVD</td>\n",
              "      <td>5.0</td>\n",
              "      <td>5.0</td>\n",
              "      <td>6.0</td>\n",
              "      <td>N</td>\n",
              "      <td>N</td>\n",
              "      <td>It's............SHOWTIME!!!!!\\tShowtime is the...</td>\n",
              "      <td>2002-03-16</td>\n",
              "      <td>NaN</td>\n",
              "    </tr>\n",
              "    <tr>\n",
              "      <th>235044</th>\n",
              "      <td>US</td>\n",
              "      <td>52442862</td>\n",
              "      <td>R1YZIXBH6AVF4E</td>\n",
              "      <td>B00000JMQC</td>\n",
              "      <td>79142420</td>\n",
              "      <td>Return to Oz [VHS]</td>\n",
              "      <td>Video</td>\n",
              "      <td>5.0</td>\n",
              "      <td>6.0</td>\n",
              "      <td>7.0</td>\n",
              "      <td>N</td>\n",
              "      <td>N</td>\n",
              "      <td>The Wizard of Oz it is not--should not be!\\tFo...</td>\n",
              "      <td>2002-06-10</td>\n",
              "      <td>NaN</td>\n",
              "    </tr>\n",
              "  </tbody>\n",
              "</table>\n",
              "</div>"
            ],
            "text/plain": [
              "       marketplace  ...  review_date\n",
              "142642          US  ...          NaN\n",
              "144995          US  ...   2001-03-21\n",
              "186564          US  ...          NaN\n",
              "217791          US  ...          NaN\n",
              "235044          US  ...          NaN\n",
              "\n",
              "[5 rows x 15 columns]"
            ]
          },
          "metadata": {
            "tags": []
          },
          "execution_count": 8
        }
      ]
    },
    {
      "cell_type": "code",
      "metadata": {
        "colab": {
          "base_uri": "https://localhost:8080/"
        },
        "id": "7C4tNmMiCHMa",
        "outputId": "a0a62d6f-e2bb-438c-a603-a902478f7e63"
      },
      "source": [
        "# Number of rows with null values\n",
        "\n",
        "null_values.shape"
      ],
      "execution_count": 9,
      "outputs": [
        {
          "output_type": "execute_result",
          "data": {
            "text/plain": [
              "(473, 15)"
            ]
          },
          "metadata": {
            "tags": []
          },
          "execution_count": 9
        }
      ]
    },
    {
      "cell_type": "code",
      "metadata": {
        "colab": {
          "base_uri": "https://localhost:8080/"
        },
        "id": "YuZ1FJO8X7b2",
        "outputId": "bff49234-1c31-42b0-e700-6c1aa6cad9eb"
      },
      "source": [
        "# Dropping rows with null values\n",
        "\n",
        "df = df.dropna()\n",
        "df = df.reset_index(drop=True)\n",
        "df.shape"
      ],
      "execution_count": 10,
      "outputs": [
        {
          "output_type": "execute_result",
          "data": {
            "text/plain": [
              "(6900413, 15)"
            ]
          },
          "metadata": {
            "tags": []
          },
          "execution_count": 10
        }
      ]
    },
    {
      "cell_type": "markdown",
      "metadata": {
        "id": "j3u3fTuBE75g"
      },
      "source": [
        "**473 rows with null values have been dropped.**"
      ]
    },
    {
      "cell_type": "code",
      "metadata": {
        "colab": {
          "base_uri": "https://localhost:8080/"
        },
        "id": "SWHXvIRxN-XD",
        "outputId": "f987ab7c-61ff-4e6c-8911-866d3dd67539"
      },
      "source": [
        "# Checking for duplicate rows\n",
        "\n",
        "duplicate_values = df[df.duplicated()]\n",
        "duplicate_values.shape"
      ],
      "execution_count": 11,
      "outputs": [
        {
          "output_type": "execute_result",
          "data": {
            "text/plain": [
              "(0, 15)"
            ]
          },
          "metadata": {
            "tags": []
          },
          "execution_count": 11
        }
      ]
    },
    {
      "cell_type": "markdown",
      "metadata": {
        "id": "7t6nxEVyPl2J"
      },
      "source": [
        "**Verifying if the data is from US marketplace and data columns have unique values.**"
      ]
    },
    {
      "cell_type": "code",
      "metadata": {
        "colab": {
          "base_uri": "https://localhost:8080/"
        },
        "id": "ghZWUQjUF4GN",
        "outputId": "b7e3d12a-8d17-483a-deeb-b292c94b37e0"
      },
      "source": [
        "df.marketplace.value_counts()"
      ],
      "execution_count": 12,
      "outputs": [
        {
          "output_type": "execute_result",
          "data": {
            "text/plain": [
              "US    6900413\n",
              "Name: marketplace, dtype: int64"
            ]
          },
          "metadata": {
            "tags": []
          },
          "execution_count": 12
        }
      ]
    },
    {
      "cell_type": "code",
      "metadata": {
        "colab": {
          "base_uri": "https://localhost:8080/"
        },
        "id": "xJkfOSEtErc_",
        "outputId": "79c4a834-5efc-421e-ee70-1fa8243c291b"
      },
      "source": [
        "df.product_category.unique()"
      ],
      "execution_count": 13,
      "outputs": [
        {
          "output_type": "execute_result",
          "data": {
            "text/plain": [
              "array(['Books', 'Music', 'Video', 'Video DVD', 'Toys', 'Tools',\n",
              "       'Office Products', 'Video Games', 'Software',\n",
              "       'Digital_Music_Purchase', 'Home Entertainment', 'Electronics',\n",
              "       'Digital_Ebook_Purchase', 'Digital_Video_Download', 'Kitchen',\n",
              "       'Camera', 'Outdoors', 'Musical Instruments', 'Sports', 'Watches',\n",
              "       'PC', 'Home', 'Wireless', 'Beauty', 'Baby', 'Home Improvement',\n",
              "       'Apparel', 'Shoes', 'Lawn and Garden', 'Mobile_Electronics',\n",
              "       'Health & Personal Care', 'Grocery', 'Luggage',\n",
              "       'Personal_Care_Appliances', 'Automotive', 'Mobile_Apps',\n",
              "       'Furniture', 'Pet Products'], dtype=object)"
            ]
          },
          "metadata": {
            "tags": []
          },
          "execution_count": 13
        }
      ]
    },
    {
      "cell_type": "code",
      "metadata": {
        "colab": {
          "base_uri": "https://localhost:8080/"
        },
        "id": "rlaOUCOrewn0",
        "outputId": "56d9e6b6-cc95-4796-85f2-d785824eba56"
      },
      "source": [
        "df.star_rating.value_counts()"
      ],
      "execution_count": 14,
      "outputs": [
        {
          "output_type": "execute_result",
          "data": {
            "text/plain": [
              "5.0    4421729\n",
              "4.0    1260818\n",
              "3.0     534513\n",
              "1.0     404895\n",
              "2.0     278458\n",
              "Name: star_rating, dtype: int64"
            ]
          },
          "metadata": {
            "tags": []
          },
          "execution_count": 14
        }
      ]
    },
    {
      "cell_type": "code",
      "metadata": {
        "colab": {
          "base_uri": "https://localhost:8080/"
        },
        "id": "azZaVOs3NGB-",
        "outputId": "aa27e078-a1eb-49b9-a69f-1678514fa29a"
      },
      "source": [
        "df.vine.value_counts()"
      ],
      "execution_count": 15,
      "outputs": [
        {
          "output_type": "execute_result",
          "data": {
            "text/plain": [
              "N    6893548\n",
              "Y       6865\n",
              "Name: vine, dtype: int64"
            ]
          },
          "metadata": {
            "tags": []
          },
          "execution_count": 15
        }
      ]
    },
    {
      "cell_type": "code",
      "metadata": {
        "colab": {
          "base_uri": "https://localhost:8080/"
        },
        "id": "QZhuMyQzHA8K",
        "outputId": "141b4d4e-b913-46e2-e303-3415cfd57493"
      },
      "source": [
        "df.verified_purchase.value_counts()"
      ],
      "execution_count": 16,
      "outputs": [
        {
          "output_type": "execute_result",
          "data": {
            "text/plain": [
              "Y    5032862\n",
              "N    1867551\n",
              "Name: verified_purchase, dtype: int64"
            ]
          },
          "metadata": {
            "tags": []
          },
          "execution_count": 16
        }
      ]
    },
    {
      "cell_type": "code",
      "metadata": {
        "id": "jhp4uNYXoH9I"
      },
      "source": [
        "# Converting review_date column into date format\n",
        "# Ref: https://stackoverflow.com/questions/29370057/select-dataframe-rows-between-two-dates\n",
        "\n",
        "df['review_date'] = pd.to_datetime(df['review_date'])"
      ],
      "execution_count": 17,
      "outputs": []
    },
    {
      "cell_type": "code",
      "metadata": {
        "colab": {
          "base_uri": "https://localhost:8080/"
        },
        "id": "si3ZBuH5obMD",
        "outputId": "4c6090e9-4a9c-41ea-8ea8-a7d9f6d6b8c9"
      },
      "source": [
        "df.info()"
      ],
      "execution_count": 18,
      "outputs": [
        {
          "output_type": "stream",
          "text": [
            "<class 'pandas.core.frame.DataFrame'>\n",
            "RangeIndex: 6900413 entries, 0 to 6900412\n",
            "Data columns (total 15 columns):\n",
            " #   Column             Dtype         \n",
            "---  ------             -----         \n",
            " 0   marketplace        object        \n",
            " 1   customer_id        int64         \n",
            " 2   review_id          object        \n",
            " 3   product_id         object        \n",
            " 4   product_parent     int64         \n",
            " 5   product_title      object        \n",
            " 6   product_category   object        \n",
            " 7   star_rating        float64       \n",
            " 8   helpful_votes      float64       \n",
            " 9   total_votes        float64       \n",
            " 10  vine               object        \n",
            " 11  verified_purchase  object        \n",
            " 12  review_headline    object        \n",
            " 13  review_body        object        \n",
            " 14  review_date        datetime64[ns]\n",
            "dtypes: datetime64[ns](1), float64(3), int64(2), object(9)\n",
            "memory usage: 789.7+ MB\n"
          ],
          "name": "stdout"
        }
      ]
    },
    {
      "cell_type": "markdown",
      "metadata": {
        "id": "_gYnXGcCQiIZ"
      },
      "source": [
        "**Insight into the data.**"
      ]
    },
    {
      "cell_type": "code",
      "metadata": {
        "colab": {
          "base_uri": "https://localhost:8080/",
          "height": 872
        },
        "id": "pMh9VT6UOaVN",
        "outputId": "b0e8bcd3-b265-4e64-e0fc-8f527b4a356c"
      },
      "source": [
        "# Plotting number of reviews under each category\n",
        "# Ref: https://www.kite.com/python/answers/how-to-display-the-value-of-each-bar-in-a-bar-chart-using-matplotlib-in-python\n",
        "\n",
        "plt.rcdefaults()\n",
        "plt.xlabel('Number of Reviews')\n",
        "plt.ylabel('Product Category')\n",
        "plt.title('Reviews under each category')\n",
        "df['product_category'].value_counts(ascending = True).plot.barh(figsize = (12, 10))\n",
        "for index, value in enumerate(df['product_category'].value_counts(ascending = True)):\n",
        "    plt.text(value, index, str(value))"
      ],
      "execution_count": 19,
      "outputs": [
        {
          "output_type": "display_data",
          "data": {
            "image/png": "[encoded data removed]",
            "text/plain": [
              "<Figure size 1200x1000 with 1 Axes>"
            ]
          },
          "metadata": {
            "tags": []
          }
        }
      ]
    },
    {
      "cell_type": "code",
      "metadata": {
        "colab": {
          "base_uri": "https://localhost:8080/",
          "height": 872
        },
        "id": "hH5WEw4eVrdA",
        "outputId": "0ed36075-0f22-4adf-d565-b539fe7de204"
      },
      "source": [
        "# Plotting number of reviews over the years\n",
        "# Ref: https://stackoverflow.com/questions/43682672/plot-pandas-dataframe-against-month\n",
        "\n",
        "plt.rcdefaults()\n",
        "df['review_date'].groupby(df['review_date'].dt.to_period('Y')).count().plot.barh(figsize = (12, 10))\n",
        "plt.xlabel('Number of Reviews')\n",
        "plt.ylabel('Year')\n",
        "plt.title('Reviews posted over the years')\n",
        "for index, value in enumerate(df['review_date'].groupby(df['review_date'].dt.to_period('Y')).count()):\n",
        "    plt.text(value, index, str(value))"
      ],
      "execution_count": 20,
      "outputs": [
        {
          "output_type": "display_data",
          "data": {
            "image/png": "[encoded data removed]",
            "text/plain": [
              "<Figure size 1200x1000 with 1 Axes>"
            ]
          },
          "metadata": {
            "tags": []
          }
        }
      ]
    },
    {
      "cell_type": "code",
      "metadata": {
        "colab": {
          "base_uri": "https://localhost:8080/",
          "height": 489
        },
        "id": "plIjTYyepwL4",
        "outputId": "9be18381-c9fb-46d0-e50c-218f4defa443"
      },
      "source": [
        "# Plotting number of overall ratings\n",
        "\n",
        "plt.rcdefaults()\n",
        "plt.xlabel('Star Rating')\n",
        "plt.ylabel('Number of Reviews')\n",
        "plt.title('Overall Ratings')\n",
        "df['star_rating'].value_counts(sort = False).plot.bar(rot = 0)"
      ],
      "execution_count": 21,
      "outputs": [
        {
          "output_type": "execute_result",
          "data": {
            "text/plain": [
              "<matplotlib.axes._subplots.AxesSubplot at 0x7fe475392ed0>"
            ]
          },
          "metadata": {
            "tags": []
          },
          "execution_count": 21
        },
        {
          "output_type": "display_data",
          "data": {
            "image/png": "[encoded data removed]",
            "text/plain": [
              "<Figure size 640x480 with 1 Axes>"
            ]
          },
          "metadata": {
            "tags": []
          }
        }
      ]
    },
    {
      "cell_type": "code",
      "metadata": {
        "id": "HLqcw3R83tcq"
      },
      "source": [
        ""
      ],
      "execution_count": 21,
      "outputs": []
    },
    {
      "cell_type": "code",
      "metadata": {
        "colab": {
          "base_uri": "https://localhost:8080/",
          "height": 227
        },
        "id": "wnL3B8tR_O6u",
        "outputId": "23dbf8c3-3ace-472b-c1d8-7d2225ed9db0"
      },
      "source": [
        "df.head(2)"
      ],
      "execution_count": 22,
      "outputs": [
        {
          "output_type": "execute_result",
          "data": {
            "text/html": [
              "<div>\n",
              "<style scoped>\n",
              "    .dataframe tbody tr th:only-of-type {\n",
              "        vertical-align: middle;\n",
              "    }\n",
              "\n",
              "    .dataframe tbody tr th {\n",
              "        vertical-align: top;\n",
              "    }\n",
              "\n",
              "    .dataframe thead th {\n",
              "        text-align: right;\n",
              "    }\n",
              "</style>\n",
              "<table border=\"1\" class=\"dataframe\">\n",
              "  <thead>\n",
              "    <tr style=\"text-align: right;\">\n",
              "      <th></th>\n",
              "      <th>marketplace</th>\n",
              "      <th>customer_id</th>\n",
              "      <th>review_id</th>\n",
              "      <th>product_id</th>\n",
              "      <th>product_parent</th>\n",
              "      <th>product_title</th>\n",
              "      <th>product_category</th>\n",
              "      <th>star_rating</th>\n",
              "      <th>helpful_votes</th>\n",
              "      <th>total_votes</th>\n",
              "      <th>vine</th>\n",
              "      <th>verified_purchase</th>\n",
              "      <th>review_headline</th>\n",
              "      <th>review_body</th>\n",
              "      <th>review_date</th>\n",
              "    </tr>\n",
              "  </thead>\n",
              "  <tbody>\n",
              "    <tr>\n",
              "      <th>0</th>\n",
              "      <td>US</td>\n",
              "      <td>53096384</td>\n",
              "      <td>R63J84G1LOX6R</td>\n",
              "      <td>1563890119</td>\n",
              "      <td>763187671</td>\n",
              "      <td>The Sandman Vol. 1: Preludes and Nocturnes</td>\n",
              "      <td>Books</td>\n",
              "      <td>4.0</td>\n",
              "      <td>0.0</td>\n",
              "      <td>1.0</td>\n",
              "      <td>N</td>\n",
              "      <td>N</td>\n",
              "      <td>ignore the review below</td>\n",
              "      <td>this is the first 8 issues of the series. it i...</td>\n",
              "      <td>1995-08-13</td>\n",
              "    </tr>\n",
              "    <tr>\n",
              "      <th>1</th>\n",
              "      <td>US</td>\n",
              "      <td>53096399</td>\n",
              "      <td>R1BALOA11Z06MT</td>\n",
              "      <td>1559947608</td>\n",
              "      <td>381720534</td>\n",
              "      <td>The 22 Immutable Laws of Marketing</td>\n",
              "      <td>Books</td>\n",
              "      <td>4.0</td>\n",
              "      <td>0.0</td>\n",
              "      <td>0.0</td>\n",
              "      <td>N</td>\n",
              "      <td>N</td>\n",
              "      <td>awesome</td>\n",
              "      <td>I've always been partial to immutable laws. Th...</td>\n",
              "      <td>1995-08-17</td>\n",
              "    </tr>\n",
              "  </tbody>\n",
              "</table>\n",
              "</div>"
            ],
            "text/plain": [
              "  marketplace  ...  review_date\n",
              "0          US  ...   1995-08-13\n",
              "1          US  ...   1995-08-17\n",
              "\n",
              "[2 rows x 15 columns]"
            ]
          },
          "metadata": {
            "tags": []
          },
          "execution_count": 22
        }
      ]
    },
    {
      "cell_type": "markdown",
      "metadata": {
        "id": "kBQjVV_ihR5R"
      },
      "source": [
        "**Data Cleaning**"
      ]
    },
    {
      "cell_type": "code",
      "metadata": {
        "colab": {
          "base_uri": "https://localhost:8080/"
        },
        "id": "qQ9_nhGb-_Xd",
        "outputId": "86e37e18-401d-4ad8-e423-758ec654313f"
      },
      "source": [
        "import wordcloud\n",
        "from nltk.corpus import stopwords\n",
        "import nltk\n",
        "import string\n",
        "import re\n",
        "nltk.download('stopwords')\n",
        "nltk.download('wordnet')\n",
        "nltk.download('punkt')\n",
        "nltk.download('averaged_perceptron_tagger')\n",
        "stop = stopwords.words('english')"
      ],
      "execution_count": 23,
      "outputs": [
        {
          "output_type": "stream",
          "text": [
            "[nltk_data] Downloading package stopwords to /root/nltk_data...\n",
            "[nltk_data]   Unzipping corpora/stopwords.zip.\n",
            "[nltk_data] Downloading package wordnet to /root/nltk_data...\n",
            "[nltk_data]   Unzipping corpora/wordnet.zip.\n",
            "[nltk_data] Downloading package punkt to /root/nltk_data...\n",
            "[nltk_data]   Unzipping tokenizers/punkt.zip.\n",
            "[nltk_data] Downloading package averaged_perceptron_tagger to\n",
            "[nltk_data]     /root/nltk_data...\n",
            "[nltk_data]   Unzipping taggers/averaged_perceptron_tagger.zip.\n"
          ],
          "name": "stdout"
        }
      ]
    },
    {
      "cell_type": "code",
      "metadata": {
        "id": "BJvfjKUI_EzR"
      },
      "source": [
        "# Function to clean the review text. Converting to lower case, square brackets, extra spaces, URLs, html tags, removing punctuation, new line, words containing numbers and special characters\n",
        "\n",
        "def cleantext(text):\n",
        "    # Converting to lower case\n",
        "    text = text.lower()\n",
        "    # removing URLs\n",
        "    text = re.sub('https?://\\S+|www\\.\\S+', '', text)\n",
        "    # removing mentions\n",
        "    text = re.sub('@\\S+', '', text)\n",
        "    # removing hashtags\n",
        "    text = re.sub('#\\S+', '', text)\n",
        "    # removing punctuations\n",
        "    text = re.sub('[^-9A-Za-z ]', ' ' , text)\n",
        "    text = re.sub('\\[.*?\\]', '', text)\n",
        "    text = re.sub(\"\\W\",' ',text) \n",
        "    text = re.sub('<.*?>+', '', text)\n",
        "    text = re.sub('[%s]' % re.escape(string.punctuation), '', text)\n",
        "    text = re.sub('[‘’“”…]', '', text)\n",
        "    # removing new line\n",
        "    text = re.sub('\\n', '', text)\n",
        "    # removing numbers\n",
        "    text = re.sub('\\w*\\d\\w*', '', text)\n",
        "    # removing single characters\n",
        "    text = re.sub('\\s+[a-zA-Z]\\s+', ' ', text)\n",
        "    text = re.sub('\\^[a-zA-Z]\\s+', ' ', text)\n",
        "    # removing overspaces\n",
        "    text = re.sub('\\s+', ' ', text) \n",
        "    return text"
      ],
      "execution_count": 24,
      "outputs": []
    },
    {
      "cell_type": "code",
      "metadata": {
        "id": "9JHn-uGC_HvS"
      },
      "source": [
        "df['CLEAN_REVIEW_TEXT'] = df['review_body'].apply(cleantext)"
      ],
      "execution_count": 25,
      "outputs": []
    },
    {
      "cell_type": "code",
      "metadata": {
        "id": "djuP4X7X_vb8"
      },
      "source": [
        "df['CLEAN_PRODUCT_TITLE'] = df['product_title'].apply(cleantext)"
      ],
      "execution_count": 26,
      "outputs": []
    },
    {
      "cell_type": "code",
      "metadata": {
        "id": "AgnY36XiHw0T"
      },
      "source": [
        "df['CLEAN_REVIEW_TITLE'] = df['review_headline'].apply(cleantext)"
      ],
      "execution_count": 27,
      "outputs": []
    },
    {
      "cell_type": "code",
      "metadata": {
        "colab": {
          "base_uri": "https://localhost:8080/",
          "height": 227
        },
        "id": "qfWvuh3KFHXo",
        "outputId": "80227a39-ab4b-47db-82b3-741906b9c63e"
      },
      "source": [
        "df.head(2)"
      ],
      "execution_count": 28,
      "outputs": [
        {
          "output_type": "execute_result",
          "data": {
            "text/html": [
              "<div>\n",
              "<style scoped>\n",
              "    .dataframe tbody tr th:only-of-type {\n",
              "        vertical-align: middle;\n",
              "    }\n",
              "\n",
              "    .dataframe tbody tr th {\n",
              "        vertical-align: top;\n",
              "    }\n",
              "\n",
              "    .dataframe thead th {\n",
              "        text-align: right;\n",
              "    }\n",
              "</style>\n",
              "<table border=\"1\" class=\"dataframe\">\n",
              "  <thead>\n",
              "    <tr style=\"text-align: right;\">\n",
              "      <th></th>\n",
              "      <th>marketplace</th>\n",
              "      <th>customer_id</th>\n",
              "      <th>review_id</th>\n",
              "      <th>product_id</th>\n",
              "      <th>product_parent</th>\n",
              "      <th>product_title</th>\n",
              "      <th>product_category</th>\n",
              "      <th>star_rating</th>\n",
              "      <th>helpful_votes</th>\n",
              "      <th>total_votes</th>\n",
              "      <th>vine</th>\n",
              "      <th>verified_purchase</th>\n",
              "      <th>review_headline</th>\n",
              "      <th>review_body</th>\n",
              "      <th>review_date</th>\n",
              "      <th>CLEAN_REVIEW_TEXT</th>\n",
              "      <th>CLEAN_PRODUCT_TITLE</th>\n",
              "      <th>CLEAN_REVIEW_TITLE</th>\n",
              "    </tr>\n",
              "  </thead>\n",
              "  <tbody>\n",
              "    <tr>\n",
              "      <th>0</th>\n",
              "      <td>US</td>\n",
              "      <td>53096384</td>\n",
              "      <td>R63J84G1LOX6R</td>\n",
              "      <td>1563890119</td>\n",
              "      <td>763187671</td>\n",
              "      <td>The Sandman Vol. 1: Preludes and Nocturnes</td>\n",
              "      <td>Books</td>\n",
              "      <td>4.0</td>\n",
              "      <td>0.0</td>\n",
              "      <td>1.0</td>\n",
              "      <td>N</td>\n",
              "      <td>N</td>\n",
              "      <td>ignore the review below</td>\n",
              "      <td>this is the first 8 issues of the series. it i...</td>\n",
              "      <td>1995-08-13</td>\n",
              "      <td>this is the first issues of the series it is t...</td>\n",
              "      <td>the sandman vol preludes and nocturnes</td>\n",
              "      <td>ignore the review below</td>\n",
              "    </tr>\n",
              "    <tr>\n",
              "      <th>1</th>\n",
              "      <td>US</td>\n",
              "      <td>53096399</td>\n",
              "      <td>R1BALOA11Z06MT</td>\n",
              "      <td>1559947608</td>\n",
              "      <td>381720534</td>\n",
              "      <td>The 22 Immutable Laws of Marketing</td>\n",
              "      <td>Books</td>\n",
              "      <td>4.0</td>\n",
              "      <td>0.0</td>\n",
              "      <td>0.0</td>\n",
              "      <td>N</td>\n",
              "      <td>N</td>\n",
              "      <td>awesome</td>\n",
              "      <td>I've always been partial to immutable laws. Th...</td>\n",
              "      <td>1995-08-17</td>\n",
              "      <td>i ve always been partial to immutable laws the...</td>\n",
              "      <td>the immutable laws of marketing</td>\n",
              "      <td>awesome</td>\n",
              "    </tr>\n",
              "  </tbody>\n",
              "</table>\n",
              "</div>"
            ],
            "text/plain": [
              "  marketplace  ...       CLEAN_REVIEW_TITLE\n",
              "0          US  ...  ignore the review below\n",
              "1          US  ...                  awesome\n",
              "\n",
              "[2 rows x 18 columns]"
            ]
          },
          "metadata": {
            "tags": []
          },
          "execution_count": 28
        }
      ]
    },
    {
      "cell_type": "code",
      "metadata": {
        "id": "IN7pIGEcGqjf"
      },
      "source": [
        "# Remove emojis\n",
        "# Reference : https://gist.github.com/slowkow/7a7f61f495e3dbb7e3d767f97bd7304b\n",
        "\n",
        "def remove_emoji(text):\n",
        "    emoji_pattern = re.compile(\"[\"\n",
        "                           u\"\\U0001F600-\\U0001F64F\"  # emoticons\n",
        "                           u\"\\U0001F300-\\U0001F5FF\"  # symbols & pictographs\n",
        "                           u\"\\U0001F680-\\U0001F6FF\"  # transport & map symbols\n",
        "                           u\"\\U0001F1E0-\\U0001F1FF\"  # flags \n",
        "                           u\"\\U00002702-\\U000027B0\"\n",
        "                           u\"\\U000024C2-\\U0001F251\"\n",
        "                           \"]+\", flags=re.UNICODE)\n",
        "    return emoji_pattern.sub(r'', text)"
      ],
      "execution_count": 29,
      "outputs": []
    },
    {
      "cell_type": "code",
      "metadata": {
        "id": "Rk_f_xr0G6HV"
      },
      "source": [
        "df['CLEAN_REVIEW_TEXT'] = df['CLEAN_REVIEW_TEXT'].apply(lambda x: remove_emoji(x))"
      ],
      "execution_count": 30,
      "outputs": []
    },
    {
      "cell_type": "code",
      "metadata": {
        "id": "rUoEBpIdH3HO"
      },
      "source": [
        "df['CLEAN_PRODUCT_TITLE'] = df['CLEAN_PRODUCT_TITLE'].apply(lambda x: remove_emoji(x))"
      ],
      "execution_count": 31,
      "outputs": []
    },
    {
      "cell_type": "code",
      "metadata": {
        "id": "i4BHn_qCG7uY"
      },
      "source": [
        "df['CLEAN_REVIEW_TITLE'] = df['CLEAN_REVIEW_TITLE'].apply(lambda x: remove_emoji(x))"
      ],
      "execution_count": 32,
      "outputs": []
    },
    {
      "cell_type": "code",
      "metadata": {
        "colab": {
          "base_uri": "https://localhost:8080/",
          "height": 227
        },
        "id": "XDx8M0SKH6ZE",
        "outputId": "498d412a-7aca-4cf6-d54a-eef354811b9c"
      },
      "source": [
        "df.head(2)"
      ],
      "execution_count": 33,
      "outputs": [
        {
          "output_type": "execute_result",
          "data": {
            "text/html": [
              "<div>\n",
              "<style scoped>\n",
              "    .dataframe tbody tr th:only-of-type {\n",
              "        vertical-align: middle;\n",
              "    }\n",
              "\n",
              "    .dataframe tbody tr th {\n",
              "        vertical-align: top;\n",
              "    }\n",
              "\n",
              "    .dataframe thead th {\n",
              "        text-align: right;\n",
              "    }\n",
              "</style>\n",
              "<table border=\"1\" class=\"dataframe\">\n",
              "  <thead>\n",
              "    <tr style=\"text-align: right;\">\n",
              "      <th></th>\n",
              "      <th>marketplace</th>\n",
              "      <th>customer_id</th>\n",
              "      <th>review_id</th>\n",
              "      <th>product_id</th>\n",
              "      <th>product_parent</th>\n",
              "      <th>product_title</th>\n",
              "      <th>product_category</th>\n",
              "      <th>star_rating</th>\n",
              "      <th>helpful_votes</th>\n",
              "      <th>total_votes</th>\n",
              "      <th>vine</th>\n",
              "      <th>verified_purchase</th>\n",
              "      <th>review_headline</th>\n",
              "      <th>review_body</th>\n",
              "      <th>review_date</th>\n",
              "      <th>CLEAN_REVIEW_TEXT</th>\n",
              "      <th>CLEAN_PRODUCT_TITLE</th>\n",
              "      <th>CLEAN_REVIEW_TITLE</th>\n",
              "    </tr>\n",
              "  </thead>\n",
              "  <tbody>\n",
              "    <tr>\n",
              "      <th>0</th>\n",
              "      <td>US</td>\n",
              "      <td>53096384</td>\n",
              "      <td>R63J84G1LOX6R</td>\n",
              "      <td>1563890119</td>\n",
              "      <td>763187671</td>\n",
              "      <td>The Sandman Vol. 1: Preludes and Nocturnes</td>\n",
              "      <td>Books</td>\n",
              "      <td>4.0</td>\n",
              "      <td>0.0</td>\n",
              "      <td>1.0</td>\n",
              "      <td>N</td>\n",
              "      <td>N</td>\n",
              "      <td>ignore the review below</td>\n",
              "      <td>this is the first 8 issues of the series. it i...</td>\n",
              "      <td>1995-08-13</td>\n",
              "      <td>this is the first issues of the series it is t...</td>\n",
              "      <td>the sandman vol preludes and nocturnes</td>\n",
              "      <td>ignore the review below</td>\n",
              "    </tr>\n",
              "    <tr>\n",
              "      <th>1</th>\n",
              "      <td>US</td>\n",
              "      <td>53096399</td>\n",
              "      <td>R1BALOA11Z06MT</td>\n",
              "      <td>1559947608</td>\n",
              "      <td>381720534</td>\n",
              "      <td>The 22 Immutable Laws of Marketing</td>\n",
              "      <td>Books</td>\n",
              "      <td>4.0</td>\n",
              "      <td>0.0</td>\n",
              "      <td>0.0</td>\n",
              "      <td>N</td>\n",
              "      <td>N</td>\n",
              "      <td>awesome</td>\n",
              "      <td>I've always been partial to immutable laws. Th...</td>\n",
              "      <td>1995-08-17</td>\n",
              "      <td>i ve always been partial to immutable laws the...</td>\n",
              "      <td>the immutable laws of marketing</td>\n",
              "      <td>awesome</td>\n",
              "    </tr>\n",
              "  </tbody>\n",
              "</table>\n",
              "</div>"
            ],
            "text/plain": [
              "  marketplace  ...       CLEAN_REVIEW_TITLE\n",
              "0          US  ...  ignore the review below\n",
              "1          US  ...                  awesome\n",
              "\n",
              "[2 rows x 18 columns]"
            ]
          },
          "metadata": {
            "tags": []
          },
          "execution_count": 33
        }
      ]
    },
    {
      "cell_type": "code",
      "metadata": {
        "colab": {
          "base_uri": "https://localhost:8080/"
        },
        "id": "plzdnGpnH7sf",
        "outputId": "f4b78cb1-4534-40c4-e291-19d6655b6a53"
      },
      "source": [
        "# Checking for null values\n",
        "\n",
        "df.isna().sum()"
      ],
      "execution_count": 34,
      "outputs": [
        {
          "output_type": "execute_result",
          "data": {
            "text/plain": [
              "marketplace            0\n",
              "customer_id            0\n",
              "review_id              0\n",
              "product_id             0\n",
              "product_parent         0\n",
              "product_title          0\n",
              "product_category       0\n",
              "star_rating            0\n",
              "helpful_votes          0\n",
              "total_votes            0\n",
              "vine                   0\n",
              "verified_purchase      0\n",
              "review_headline        0\n",
              "review_body            0\n",
              "review_date            0\n",
              "CLEAN_REVIEW_TEXT      0\n",
              "CLEAN_PRODUCT_TITLE    0\n",
              "CLEAN_REVIEW_TITLE     0\n",
              "dtype: int64"
            ]
          },
          "metadata": {
            "tags": []
          },
          "execution_count": 34
        }
      ]
    },
    {
      "cell_type": "code",
      "metadata": {
        "colab": {
          "base_uri": "https://localhost:8080/"
        },
        "id": "crXb6zSXHib0",
        "outputId": "afcfbffb-d3d1-47ea-a93b-939d953b7041"
      },
      "source": [
        "# Dropping rows with null values\n",
        "\n",
        "df = df.dropna()\n",
        "df = df.reset_index(drop=True)\n",
        "df.shape"
      ],
      "execution_count": 35,
      "outputs": [
        {
          "output_type": "execute_result",
          "data": {
            "text/plain": [
              "(6900413, 18)"
            ]
          },
          "metadata": {
            "tags": []
          },
          "execution_count": 35
        }
      ]
    },
    {
      "cell_type": "code",
      "metadata": {
        "id": "p8Kh6yDFQ5KI"
      },
      "source": [
        "df_copy = df.copy()"
      ],
      "execution_count": 36,
      "outputs": []
    },
    {
      "cell_type": "code",
      "metadata": {
        "id": "f6rOZ8DSZhK7"
      },
      "source": [
        "# Saving the dataset into a dataframe from Google Drive\n",
        "\n",
        "df.to_csv(r'/content/gdrive/MyDrive/DATA 606 - Capstone Project/amazon_reviews_cleaned.csv', index = False)"
      ],
      "execution_count": 37,
      "outputs": []
    },
    {
      "cell_type": "code",
      "metadata": {
        "id": "oOSb6adeRu19"
      },
      "source": [
        "# Loading the dataset into a dataframe from Google Drive\n",
        "\n",
        "df_clean = pd.read_csv('/content/gdrive/MyDrive/DATA 606 - Capstone Project/amazon_reviews_cleaned.csv')"
      ],
      "execution_count": 38,
      "outputs": []
    },
    {
      "cell_type": "code",
      "metadata": {
        "colab": {
          "base_uri": "https://localhost:8080/",
          "height": 484
        },
        "id": "5frcWB6fOFLr",
        "outputId": "ba95dbcc-7b17-4aad-af46-069d2d9e47a3"
      },
      "source": [
        "df_clean.head(5)"
      ],
      "execution_count": 39,
      "outputs": [
        {
          "output_type": "execute_result",
          "data": {
            "text/html": [
              "<div>\n",
              "<style scoped>\n",
              "    .dataframe tbody tr th:only-of-type {\n",
              "        vertical-align: middle;\n",
              "    }\n",
              "\n",
              "    .dataframe tbody tr th {\n",
              "        vertical-align: top;\n",
              "    }\n",
              "\n",
              "    .dataframe thead th {\n",
              "        text-align: right;\n",
              "    }\n",
              "</style>\n",
              "<table border=\"1\" class=\"dataframe\">\n",
              "  <thead>\n",
              "    <tr style=\"text-align: right;\">\n",
              "      <th></th>\n",
              "      <th>marketplace</th>\n",
              "      <th>customer_id</th>\n",
              "      <th>review_id</th>\n",
              "      <th>product_id</th>\n",
              "      <th>product_parent</th>\n",
              "      <th>product_title</th>\n",
              "      <th>product_category</th>\n",
              "      <th>star_rating</th>\n",
              "      <th>helpful_votes</th>\n",
              "      <th>total_votes</th>\n",
              "      <th>vine</th>\n",
              "      <th>verified_purchase</th>\n",
              "      <th>review_headline</th>\n",
              "      <th>review_body</th>\n",
              "      <th>review_date</th>\n",
              "      <th>CLEAN_REVIEW_TEXT</th>\n",
              "      <th>CLEAN_PRODUCT_TITLE</th>\n",
              "      <th>CLEAN_REVIEW_TITLE</th>\n",
              "    </tr>\n",
              "  </thead>\n",
              "  <tbody>\n",
              "    <tr>\n",
              "      <th>0</th>\n",
              "      <td>US</td>\n",
              "      <td>53096384</td>\n",
              "      <td>R63J84G1LOX6R</td>\n",
              "      <td>1563890119</td>\n",
              "      <td>763187671</td>\n",
              "      <td>The Sandman Vol. 1: Preludes and Nocturnes</td>\n",
              "      <td>Books</td>\n",
              "      <td>4.0</td>\n",
              "      <td>0.0</td>\n",
              "      <td>1.0</td>\n",
              "      <td>N</td>\n",
              "      <td>N</td>\n",
              "      <td>ignore the review below</td>\n",
              "      <td>this is the first 8 issues of the series. it i...</td>\n",
              "      <td>1995-08-13</td>\n",
              "      <td>this is the first issues of the series it is t...</td>\n",
              "      <td>the sandman vol preludes and nocturnes</td>\n",
              "      <td>ignore the review below</td>\n",
              "    </tr>\n",
              "    <tr>\n",
              "      <th>1</th>\n",
              "      <td>US</td>\n",
              "      <td>53096399</td>\n",
              "      <td>R1BALOA11Z06MT</td>\n",
              "      <td>1559947608</td>\n",
              "      <td>381720534</td>\n",
              "      <td>The 22 Immutable Laws of Marketing</td>\n",
              "      <td>Books</td>\n",
              "      <td>4.0</td>\n",
              "      <td>0.0</td>\n",
              "      <td>0.0</td>\n",
              "      <td>N</td>\n",
              "      <td>N</td>\n",
              "      <td>awesome</td>\n",
              "      <td>I've always been partial to immutable laws. Th...</td>\n",
              "      <td>1995-08-17</td>\n",
              "      <td>i ve always been partial to immutable laws the...</td>\n",
              "      <td>the immutable laws of marketing</td>\n",
              "      <td>awesome</td>\n",
              "    </tr>\n",
              "    <tr>\n",
              "      <th>2</th>\n",
              "      <td>US</td>\n",
              "      <td>53096332</td>\n",
              "      <td>R1LLAY5W5PZUS4</td>\n",
              "      <td>0671701800</td>\n",
              "      <td>860650224</td>\n",
              "      <td>Contact</td>\n",
              "      <td>Books</td>\n",
              "      <td>5.0</td>\n",
              "      <td>1.0</td>\n",
              "      <td>2.0</td>\n",
              "      <td>N</td>\n",
              "      <td>N</td>\n",
              "      <td>Read the book. It's good.</td>\n",
              "      <td>This is a book about first contact with aliens...</td>\n",
              "      <td>1995-08-30</td>\n",
              "      <td>this is book about first contact with aliens w...</td>\n",
              "      <td>contact</td>\n",
              "      <td>read the book it good</td>\n",
              "    </tr>\n",
              "    <tr>\n",
              "      <th>3</th>\n",
              "      <td>US</td>\n",
              "      <td>53096335</td>\n",
              "      <td>R3R9VTJ82FXECQ</td>\n",
              "      <td>0425132153</td>\n",
              "      <td>624269601</td>\n",
              "      <td>Good Omens</td>\n",
              "      <td>Books</td>\n",
              "      <td>5.0</td>\n",
              "      <td>0.0</td>\n",
              "      <td>0.0</td>\n",
              "      <td>N</td>\n",
              "      <td>N</td>\n",
              "      <td>Funniest book ever written about the Anti-Christ</td>\n",
              "      <td>This is quite possibly *the* funniest book I h...</td>\n",
              "      <td>1995-09-11</td>\n",
              "      <td>this is quite possibly the funniest book have ...</td>\n",
              "      <td>good omens</td>\n",
              "      <td>funniest book ever written about the anti christ</td>\n",
              "    </tr>\n",
              "    <tr>\n",
              "      <th>4</th>\n",
              "      <td>US</td>\n",
              "      <td>51747709</td>\n",
              "      <td>R1P5J3FNBWTFXY</td>\n",
              "      <td>0517122707</td>\n",
              "      <td>161411385</td>\n",
              "      <td>A Confederacy of Dunces</td>\n",
              "      <td>Books</td>\n",
              "      <td>5.0</td>\n",
              "      <td>0.0</td>\n",
              "      <td>0.0</td>\n",
              "      <td>N</td>\n",
              "      <td>N</td>\n",
              "      <td>A winner that didn't last. Only a mothers love...</td>\n",
              "      <td>The story behind the book is almost better tha...</td>\n",
              "      <td>1995-10-17</td>\n",
              "      <td>the story behind the book is almost better tha...</td>\n",
              "      <td>a confederacy of dunces</td>\n",
              "      <td>a winner that didn last only mothers love rema...</td>\n",
              "    </tr>\n",
              "  </tbody>\n",
              "</table>\n",
              "</div>"
            ],
            "text/plain": [
              "  marketplace  ...                                 CLEAN_REVIEW_TITLE\n",
              "0          US  ...                            ignore the review below\n",
              "1          US  ...                                            awesome\n",
              "2          US  ...                             read the book it good \n",
              "3          US  ...   funniest book ever written about the anti christ\n",
              "4          US  ...  a winner that didn last only mothers love rema...\n",
              "\n",
              "[5 rows x 18 columns]"
            ]
          },
          "metadata": {
            "tags": []
          },
          "execution_count": 39
        }
      ]
    },
    {
      "cell_type": "code",
      "metadata": {
        "colab": {
          "base_uri": "https://localhost:8080/"
        },
        "id": "qgwT9fv7OMeP",
        "outputId": "cdb42237-40bf-4ebe-c0e5-3e380623f67c"
      },
      "source": [
        "df_clean.shape"
      ],
      "execution_count": 40,
      "outputs": [
        {
          "output_type": "execute_result",
          "data": {
            "text/plain": [
              "(6900413, 18)"
            ]
          },
          "metadata": {
            "tags": []
          },
          "execution_count": 40
        }
      ]
    },
    {
      "cell_type": "code",
      "metadata": {
        "colab": {
          "base_uri": "https://localhost:8080/"
        },
        "id": "0wI3opebqHG0",
        "outputId": "ebdda45d-195c-4cbe-b372-fff6ad0d023f"
      },
      "source": [
        "df_clean.isna().sum()"
      ],
      "execution_count": 41,
      "outputs": [
        {
          "output_type": "execute_result",
          "data": {
            "text/plain": [
              "marketplace              0\n",
              "customer_id              0\n",
              "review_id                0\n",
              "product_id               0\n",
              "product_parent           0\n",
              "product_title            0\n",
              "product_category         0\n",
              "star_rating              0\n",
              "helpful_votes            0\n",
              "total_votes              0\n",
              "vine                     0\n",
              "verified_purchase        0\n",
              "review_headline          0\n",
              "review_body              0\n",
              "review_date              0\n",
              "CLEAN_REVIEW_TEXT      105\n",
              "CLEAN_PRODUCT_TITLE    981\n",
              "CLEAN_REVIEW_TITLE     784\n",
              "dtype: int64"
            ]
          },
          "metadata": {
            "tags": []
          },
          "execution_count": 41
        }
      ]
    },
    {
      "cell_type": "code",
      "metadata": {
        "colab": {
          "base_uri": "https://localhost:8080/"
        },
        "id": "ZjWSfOWmvLm5",
        "outputId": "85125034-69fe-4c83-dbd4-1634fc950267"
      },
      "source": [
        "# Dropping rows with null values\n",
        "\n",
        "df_clean = df_clean.dropna()\n",
        "df_clean = df_clean.reset_index(drop=True)\n",
        "df_clean.shape"
      ],
      "execution_count": 42,
      "outputs": [
        {
          "output_type": "execute_result",
          "data": {
            "text/plain": [
              "(6898566, 18)"
            ]
          },
          "metadata": {
            "tags": []
          },
          "execution_count": 42
        }
      ]
    },
    {
      "cell_type": "code",
      "metadata": {
        "colab": {
          "base_uri": "https://localhost:8080/",
          "height": 174
        },
        "id": "KsR_M1awPfU6",
        "outputId": "fcffae06-8054-4709-8d42-52fae70047e6"
      },
      "source": [
        "# Dropping unused columns\n",
        "\n",
        "df_clean = df_clean.drop([\"marketplace\",\"customer_id\",\"review_id\",\"product_id\",\"product_parent\",\"helpful_votes\",\"total_votes\",\"vine\"], axis=1)\n",
        "df_clean.head(2)"
      ],
      "execution_count": 43,
      "outputs": [
        {
          "output_type": "execute_result",
          "data": {
            "text/html": [
              "<div>\n",
              "<style scoped>\n",
              "    .dataframe tbody tr th:only-of-type {\n",
              "        vertical-align: middle;\n",
              "    }\n",
              "\n",
              "    .dataframe tbody tr th {\n",
              "        vertical-align: top;\n",
              "    }\n",
              "\n",
              "    .dataframe thead th {\n",
              "        text-align: right;\n",
              "    }\n",
              "</style>\n",
              "<table border=\"1\" class=\"dataframe\">\n",
              "  <thead>\n",
              "    <tr style=\"text-align: right;\">\n",
              "      <th></th>\n",
              "      <th>product_title</th>\n",
              "      <th>product_category</th>\n",
              "      <th>star_rating</th>\n",
              "      <th>verified_purchase</th>\n",
              "      <th>review_headline</th>\n",
              "      <th>review_body</th>\n",
              "      <th>review_date</th>\n",
              "      <th>CLEAN_REVIEW_TEXT</th>\n",
              "      <th>CLEAN_PRODUCT_TITLE</th>\n",
              "      <th>CLEAN_REVIEW_TITLE</th>\n",
              "    </tr>\n",
              "  </thead>\n",
              "  <tbody>\n",
              "    <tr>\n",
              "      <th>0</th>\n",
              "      <td>The Sandman Vol. 1: Preludes and Nocturnes</td>\n",
              "      <td>Books</td>\n",
              "      <td>4.0</td>\n",
              "      <td>N</td>\n",
              "      <td>ignore the review below</td>\n",
              "      <td>this is the first 8 issues of the series. it i...</td>\n",
              "      <td>1995-08-13</td>\n",
              "      <td>this is the first issues of the series it is t...</td>\n",
              "      <td>the sandman vol preludes and nocturnes</td>\n",
              "      <td>ignore the review below</td>\n",
              "    </tr>\n",
              "    <tr>\n",
              "      <th>1</th>\n",
              "      <td>The 22 Immutable Laws of Marketing</td>\n",
              "      <td>Books</td>\n",
              "      <td>4.0</td>\n",
              "      <td>N</td>\n",
              "      <td>awesome</td>\n",
              "      <td>I've always been partial to immutable laws. Th...</td>\n",
              "      <td>1995-08-17</td>\n",
              "      <td>i ve always been partial to immutable laws the...</td>\n",
              "      <td>the immutable laws of marketing</td>\n",
              "      <td>awesome</td>\n",
              "    </tr>\n",
              "  </tbody>\n",
              "</table>\n",
              "</div>"
            ],
            "text/plain": [
              "                                product_title  ...       CLEAN_REVIEW_TITLE\n",
              "0  The Sandman Vol. 1: Preludes and Nocturnes  ...  ignore the review below\n",
              "1          The 22 Immutable Laws of Marketing  ...                  awesome\n",
              "\n",
              "[2 rows x 10 columns]"
            ]
          },
          "metadata": {
            "tags": []
          },
          "execution_count": 43
        }
      ]
    },
    {
      "cell_type": "code",
      "metadata": {
        "id": "yD1eMH5APtwb"
      },
      "source": [
        "# Saving the dataset into a dataframe from Google Drive\n",
        "\n",
        "df_clean.to_csv(r'/content/gdrive/MyDrive/DATA 606 - Capstone Project/amazon_reviews_clean.csv', index = False)"
      ],
      "execution_count": 44,
      "outputs": []
    },
    {
      "cell_type": "code",
      "metadata": {
        "id": "xDM7mI6VFxkK"
      },
      "source": [
        ""
      ],
      "execution_count": null,
      "outputs": []
    }
  ]
}