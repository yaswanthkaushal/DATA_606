{
  "nbformat": 4,
  "nbformat_minor": 0,
  "metadata": {
    "colab": {
      "name": "DATA_606_Capstone_Project_EDA_&_Model_Training_&_Testing.ipynb",
      "provenance": [],
      "collapsed_sections": [],
      "machine_shape": "hm"
    },
    "kernelspec": {
      "name": "python3",
      "display_name": "Python 3"
    },
    "language_info": {
      "name": "python"
    }
  },
  "cells": [
    {
      "cell_type": "code",
      "metadata": {
        "id": "mCxaauc86pbi"
      },
      "source": [
        "# Intializing libraries\n",
        "\n",
        "import pandas as pd\n",
        "import numpy as np\n",
        "import time\n",
        "import matplotlib.pyplot as plt\n",
        "import seaborn as sns\n",
        "import calendar"
      ],
      "execution_count": 1,
      "outputs": []
    },
    {
      "cell_type": "code",
      "metadata": {
        "colab": {
          "base_uri": "https://localhost:8080/"
        },
        "id": "frP1zf7u69Su",
        "outputId": "b245d2d1-ecbf-4725-f736-114330138c02"
      },
      "source": [
        "# Connecting to Google Drive folder\n",
        "\n",
        "from google.colab import drive\n",
        "drive.mount('/content/gdrive/')\n",
        "import sys\n",
        "sys.path.append('/content/gdrive/MyDrive/DATA 606 - Capstone Project/')"
      ],
      "execution_count": 2,
      "outputs": [
        {
          "output_type": "stream",
          "text": [
            "Drive already mounted at /content/gdrive/; to attempt to forcibly remount, call drive.mount(\"/content/gdrive/\", force_remount=True).\n"
          ],
          "name": "stdout"
        }
      ]
    },
    {
      "cell_type": "code",
      "metadata": {
        "id": "oJfKGKnp6_XO"
      },
      "source": [
        "# Loading the dataset into a dataframe from Google Drive\n",
        "\n",
        "df = pd.read_csv('/content/gdrive/MyDrive/DATA 606 - Capstone Project/amazon_reviews.txt', sep='\\t', error_bad_lines=False)"
      ],
      "execution_count": 3,
      "outputs": []
    },
    {
      "cell_type": "code",
      "metadata": {
        "colab": {
          "base_uri": "https://localhost:8080/"
        },
        "id": "0RoOOTyY7q-X",
        "outputId": "63cc00ad-18b8-4084-956a-845a96517b1c"
      },
      "source": [
        "# Dataframe Shape\n",
        "\n",
        "df.shape"
      ],
      "execution_count": 4,
      "outputs": [
        {
          "output_type": "execute_result",
          "data": {
            "text/plain": [
              "(21000, 9)"
            ]
          },
          "metadata": {
            "tags": []
          },
          "execution_count": 4
        }
      ]
    },
    {
      "cell_type": "code",
      "metadata": {
        "colab": {
          "base_uri": "https://localhost:8080/"
        },
        "id": "4wKsExzf9erb",
        "outputId": "fd7c4472-0843-48ed-ed0b-906e9fbfe13e"
      },
      "source": [
        "# Summary of the dataframe\n",
        "\n",
        "df.info()"
      ],
      "execution_count": 5,
      "outputs": [
        {
          "output_type": "stream",
          "text": [
            "<class 'pandas.core.frame.DataFrame'>\n",
            "RangeIndex: 21000 entries, 0 to 20999\n",
            "Data columns (total 9 columns):\n",
            " #   Column             Non-Null Count  Dtype \n",
            "---  ------             --------------  ----- \n",
            " 0   DOC_ID             21000 non-null  int64 \n",
            " 1   LABEL              21000 non-null  object\n",
            " 2   RATING             21000 non-null  int64 \n",
            " 3   VERIFIED_PURCHASE  21000 non-null  object\n",
            " 4   PRODUCT_CATEGORY   21000 non-null  object\n",
            " 5   PRODUCT_ID         21000 non-null  object\n",
            " 6   PRODUCT_TITLE      21000 non-null  object\n",
            " 7   REVIEW_TITLE       21000 non-null  object\n",
            " 8   REVIEW_TEXT        21000 non-null  object\n",
            "dtypes: int64(2), object(7)\n",
            "memory usage: 1.4+ MB\n"
          ],
          "name": "stdout"
        }
      ]
    },
    {
      "cell_type": "code",
      "metadata": {
        "colab": {
          "base_uri": "https://localhost:8080/",
          "height": 246
        },
        "id": "n_Do_iWU9eYI",
        "outputId": "88582e34-0b98-44bc-82ac-17763c601e29"
      },
      "source": [
        "# First 5 rows of the dataset\n",
        "\n",
        "df.head()"
      ],
      "execution_count": 6,
      "outputs": [
        {
          "output_type": "execute_result",
          "data": {
            "text/html": [
              "<div>\n",
              "<style scoped>\n",
              "    .dataframe tbody tr th:only-of-type {\n",
              "        vertical-align: middle;\n",
              "    }\n",
              "\n",
              "    .dataframe tbody tr th {\n",
              "        vertical-align: top;\n",
              "    }\n",
              "\n",
              "    .dataframe thead th {\n",
              "        text-align: right;\n",
              "    }\n",
              "</style>\n",
              "<table border=\"1\" class=\"dataframe\">\n",
              "  <thead>\n",
              "    <tr style=\"text-align: right;\">\n",
              "      <th></th>\n",
              "      <th>DOC_ID</th>\n",
              "      <th>LABEL</th>\n",
              "      <th>RATING</th>\n",
              "      <th>VERIFIED_PURCHASE</th>\n",
              "      <th>PRODUCT_CATEGORY</th>\n",
              "      <th>PRODUCT_ID</th>\n",
              "      <th>PRODUCT_TITLE</th>\n",
              "      <th>REVIEW_TITLE</th>\n",
              "      <th>REVIEW_TEXT</th>\n",
              "    </tr>\n",
              "  </thead>\n",
              "  <tbody>\n",
              "    <tr>\n",
              "      <th>0</th>\n",
              "      <td>1</td>\n",
              "      <td>__label1__</td>\n",
              "      <td>4</td>\n",
              "      <td>N</td>\n",
              "      <td>PC</td>\n",
              "      <td>B00008NG7N</td>\n",
              "      <td>Targus PAUK10U Ultra Mini USB Keypad, Black</td>\n",
              "      <td>useful</td>\n",
              "      <td>When least you think so, this product will sav...</td>\n",
              "    </tr>\n",
              "    <tr>\n",
              "      <th>1</th>\n",
              "      <td>2</td>\n",
              "      <td>__label1__</td>\n",
              "      <td>4</td>\n",
              "      <td>Y</td>\n",
              "      <td>Wireless</td>\n",
              "      <td>B00LH0Y3NM</td>\n",
              "      <td>Note 3 Battery : Stalion Strength Replacement ...</td>\n",
              "      <td>New era for batteries</td>\n",
              "      <td>Lithium batteries are something new introduced...</td>\n",
              "    </tr>\n",
              "    <tr>\n",
              "      <th>2</th>\n",
              "      <td>3</td>\n",
              "      <td>__label1__</td>\n",
              "      <td>3</td>\n",
              "      <td>N</td>\n",
              "      <td>Baby</td>\n",
              "      <td>B000I5UZ1Q</td>\n",
              "      <td>Fisher-Price Papasan Cradle Swing, Starlight</td>\n",
              "      <td>doesn't swing very well.</td>\n",
              "      <td>I purchased this swing for my baby. She is 6 m...</td>\n",
              "    </tr>\n",
              "    <tr>\n",
              "      <th>3</th>\n",
              "      <td>4</td>\n",
              "      <td>__label1__</td>\n",
              "      <td>4</td>\n",
              "      <td>N</td>\n",
              "      <td>Office Products</td>\n",
              "      <td>B003822IRA</td>\n",
              "      <td>Casio MS-80B Standard Function Desktop Calculator</td>\n",
              "      <td>Great computing!</td>\n",
              "      <td>I was looking for an inexpensive desk calcolat...</td>\n",
              "    </tr>\n",
              "    <tr>\n",
              "      <th>4</th>\n",
              "      <td>5</td>\n",
              "      <td>__label1__</td>\n",
              "      <td>4</td>\n",
              "      <td>N</td>\n",
              "      <td>Beauty</td>\n",
              "      <td>B00PWSAXAM</td>\n",
              "      <td>Shine Whitening - Zero Peroxide Teeth Whitenin...</td>\n",
              "      <td>Only use twice a week</td>\n",
              "      <td>I only use it twice a week and the results are...</td>\n",
              "    </tr>\n",
              "  </tbody>\n",
              "</table>\n",
              "</div>"
            ],
            "text/plain": [
              "   DOC_ID  ...                                        REVIEW_TEXT\n",
              "0       1  ...  When least you think so, this product will sav...\n",
              "1       2  ...  Lithium batteries are something new introduced...\n",
              "2       3  ...  I purchased this swing for my baby. She is 6 m...\n",
              "3       4  ...  I was looking for an inexpensive desk calcolat...\n",
              "4       5  ...  I only use it twice a week and the results are...\n",
              "\n",
              "[5 rows x 9 columns]"
            ]
          },
          "metadata": {
            "tags": []
          },
          "execution_count": 6
        }
      ]
    },
    {
      "cell_type": "code",
      "metadata": {
        "colab": {
          "base_uri": "https://localhost:8080/"
        },
        "id": "JKoTsR2M9oGP",
        "outputId": "1748668c-5223-4129-c143-77c7fff555bc"
      },
      "source": [
        "# Checking for null values\n",
        "\n",
        "df.isna().sum()"
      ],
      "execution_count": 7,
      "outputs": [
        {
          "output_type": "execute_result",
          "data": {
            "text/plain": [
              "DOC_ID               0\n",
              "LABEL                0\n",
              "RATING               0\n",
              "VERIFIED_PURCHASE    0\n",
              "PRODUCT_CATEGORY     0\n",
              "PRODUCT_ID           0\n",
              "PRODUCT_TITLE        0\n",
              "REVIEW_TITLE         0\n",
              "REVIEW_TEXT          0\n",
              "dtype: int64"
            ]
          },
          "metadata": {
            "tags": []
          },
          "execution_count": 7
        }
      ]
    },
    {
      "cell_type": "code",
      "metadata": {
        "id": "NCGuccna7iYy"
      },
      "source": [
        "# Replacing the values in LABEL column - '1' for Biased review and '0' for Unbiased review\n",
        "\n",
        "df.loc[df[\"LABEL\"] == \"__label1__\", \"LABEL\"] = '1'\n",
        "df.loc[df[\"LABEL\"] == \"__label2__\", \"LABEL\"] = '0'"
      ],
      "execution_count": 8,
      "outputs": []
    },
    {
      "cell_type": "code",
      "metadata": {
        "colab": {
          "base_uri": "https://localhost:8080/"
        },
        "id": "T2YXT0fa-edH",
        "outputId": "9669f6a4-14d0-4ec4-c3e0-d5683708fd08"
      },
      "source": [
        "# Checking for duplicate rows\n",
        "\n",
        "duplicate_values = df[df.duplicated()]\n",
        "duplicate_values.shape"
      ],
      "execution_count": 9,
      "outputs": [
        {
          "output_type": "execute_result",
          "data": {
            "text/plain": [
              "(0, 9)"
            ]
          },
          "metadata": {
            "tags": []
          },
          "execution_count": 9
        }
      ]
    },
    {
      "cell_type": "code",
      "metadata": {
        "colab": {
          "base_uri": "https://localhost:8080/"
        },
        "id": "lFU9pMce-1Jf",
        "outputId": "857d90c6-00b8-47dd-b779-6991a9635379"
      },
      "source": [
        "df.LABEL.value_counts()"
      ],
      "execution_count": 10,
      "outputs": [
        {
          "output_type": "execute_result",
          "data": {
            "text/plain": [
              "0    10500\n",
              "1    10500\n",
              "Name: LABEL, dtype: int64"
            ]
          },
          "metadata": {
            "tags": []
          },
          "execution_count": 10
        }
      ]
    },
    {
      "cell_type": "code",
      "metadata": {
        "colab": {
          "base_uri": "https://localhost:8080/"
        },
        "id": "LjXBdaOpA9QY",
        "outputId": "a4ba0e94-834f-44d8-cf9f-e3fe7c9ffd6a"
      },
      "source": [
        "df.groupby(df['LABEL']).PRODUCT_CATEGORY.value_counts()"
      ],
      "execution_count": 11,
      "outputs": [
        {
          "output_type": "execute_result",
          "data": {
            "text/plain": [
              "LABEL  PRODUCT_CATEGORY      \n",
              "0      Apparel                   350\n",
              "       Automotive                350\n",
              "       Baby                      350\n",
              "       Beauty                    350\n",
              "       Books                     350\n",
              "       Camera                    350\n",
              "       Electronics               350\n",
              "       Furniture                 350\n",
              "       Grocery                   350\n",
              "       Health & Personal Care    350\n",
              "       Home                      350\n",
              "       Home Entertainment        350\n",
              "       Home Improvement          350\n",
              "       Jewelry                   350\n",
              "       Kitchen                   350\n",
              "       Lawn and Garden           350\n",
              "       Luggage                   350\n",
              "       Musical Instruments       350\n",
              "       Office Products           350\n",
              "       Outdoors                  350\n",
              "       PC                        350\n",
              "       Pet Products              350\n",
              "       Shoes                     350\n",
              "       Sports                    350\n",
              "       Tools                     350\n",
              "       Toys                      350\n",
              "       Video DVD                 350\n",
              "       Video Games               350\n",
              "       Watches                   350\n",
              "       Wireless                  350\n",
              "1      Apparel                   350\n",
              "       Automotive                350\n",
              "       Baby                      350\n",
              "       Beauty                    350\n",
              "       Books                     350\n",
              "       Camera                    350\n",
              "       Electronics               350\n",
              "       Furniture                 350\n",
              "       Grocery                   350\n",
              "       Health & Personal Care    350\n",
              "       Home                      350\n",
              "       Home Entertainment        350\n",
              "       Home Improvement          350\n",
              "       Jewelry                   350\n",
              "       Kitchen                   350\n",
              "       Lawn and Garden           350\n",
              "       Luggage                   350\n",
              "       Musical Instruments       350\n",
              "       Office Products           350\n",
              "       Outdoors                  350\n",
              "       PC                        350\n",
              "       Pet Products              350\n",
              "       Shoes                     350\n",
              "       Sports                    350\n",
              "       Tools                     350\n",
              "       Toys                      350\n",
              "       Video DVD                 350\n",
              "       Video Games               350\n",
              "       Watches                   350\n",
              "       Wireless                  350\n",
              "Name: PRODUCT_CATEGORY, dtype: int64"
            ]
          },
          "metadata": {
            "tags": []
          },
          "execution_count": 11
        }
      ]
    },
    {
      "cell_type": "code",
      "metadata": {
        "colab": {
          "base_uri": "https://localhost:8080/",
          "height": 872
        },
        "id": "u6wz-yMHGcLx",
        "outputId": "1a55d183-45ee-41e1-c72d-a1c63954e9bc"
      },
      "source": [
        "# Plotting number of reviews under each category\n",
        "# Ref: https://www.kite.com/python/answers/how-to-display-the-value-of-each-bar-in-a-bar-chart-using-matplotlib-in-python\n",
        "\n",
        "plt.rcdefaults()\n",
        "plt.xlabel('Number of Reviews')\n",
        "plt.ylabel('Product Category')\n",
        "plt.title('Reviews under each category')\n",
        "df['PRODUCT_CATEGORY'].value_counts().plot.barh(figsize = (12, 10))\n",
        "for index, value in enumerate(df['PRODUCT_CATEGORY'].value_counts()):\n",
        "    plt.text(value, index, str(value))"
      ],
      "execution_count": 12,
      "outputs": [
        {
          "output_type": "display_data",
          "data": {
            "image/png": "[encoded data removed]",
            "text/plain": [
              "<Figure size 1200x1000 with 1 Axes>"
            ]
          },
          "metadata": {
            "tags": []
          }
        }
      ]
    },
    {
      "cell_type": "code",
      "metadata": {
        "colab": {
          "base_uri": "https://localhost:8080/",
          "height": 889
        },
        "id": "nOdyAxklH1_b",
        "outputId": "1307b265-bb70-406c-cee2-3ce35edb3248"
      },
      "source": [
        "# Plotting number of reviews under each category for each label\n",
        "# Ref: https://www.kite.com/python/answers/how-to-display-the-value-of-each-bar-in-a-bar-chart-using-matplotlib-in-python\n",
        "\n",
        "plt.rcdefaults()\n",
        "plt.xlabel('Number of Reviews')\n",
        "plt.title('Reviews under each category for Biased and Unbiased labels')\n",
        "df.groupby(df['LABEL']).PRODUCT_CATEGORY.value_counts().plot.barh(figsize = (12, 10))\n",
        "for index, value in enumerate(df.groupby(df['LABEL']).PRODUCT_CATEGORY.value_counts()):\n",
        "    plt.text(value, index, str(value))\n",
        "\n",
        "plt.ylabel('Label, Product Category')"
      ],
      "execution_count": 13,
      "outputs": [
        {
          "output_type": "execute_result",
          "data": {
            "text/plain": [
              "Text(0, 0.5, 'Label, Product Category')"
            ]
          },
          "metadata": {
            "tags": []
          },
          "execution_count": 13
        },
        {
          "output_type": "display_data",
          "data": {
            "image/png": "[encoded data removed]",
            "text/plain": [
              "<Figure size 1200x1000 with 1 Axes>"
            ]
          },
          "metadata": {
            "tags": []
          }
        }
      ]
    },
    {
      "cell_type": "code",
      "metadata": {
        "colab": {
          "base_uri": "https://localhost:8080/"
        },
        "id": "8nMlnTTpAhXE",
        "outputId": "a7b07699-1684-4047-b658-b9759d4216b7"
      },
      "source": [
        "df.RATING.value_counts()"
      ],
      "execution_count": 14,
      "outputs": [
        {
          "output_type": "execute_result",
          "data": {
            "text/plain": [
              "5    12210\n",
              "4     3973\n",
              "3     1868\n",
              "1     1757\n",
              "2     1192\n",
              "Name: RATING, dtype: int64"
            ]
          },
          "metadata": {
            "tags": []
          },
          "execution_count": 14
        }
      ]
    },
    {
      "cell_type": "code",
      "metadata": {
        "colab": {
          "base_uri": "https://localhost:8080/"
        },
        "id": "rt3dMs4IILx4",
        "outputId": "529d64e3-0369-42ee-e905-ff64de9df1e6"
      },
      "source": [
        "df.groupby(df['LABEL']).RATING.value_counts()"
      ],
      "execution_count": 15,
      "outputs": [
        {
          "output_type": "execute_result",
          "data": {
            "text/plain": [
              "LABEL  RATING\n",
              "0      5         6151\n",
              "       4         1974\n",
              "       3          942\n",
              "       1          868\n",
              "       2          565\n",
              "1      5         6059\n",
              "       4         1999\n",
              "       3          926\n",
              "       1          889\n",
              "       2          627\n",
              "Name: RATING, dtype: int64"
            ]
          },
          "metadata": {
            "tags": []
          },
          "execution_count": 15
        }
      ]
    },
    {
      "cell_type": "code",
      "metadata": {
        "colab": {
          "base_uri": "https://localhost:8080/",
          "height": 889
        },
        "id": "CUiRwI9eJSV_",
        "outputId": "4358f304-c0c2-43e0-ab98-b9028114d832"
      },
      "source": [
        "# Plotting number of reviews under each category for each label\n",
        "# Ref: https://www.kite.com/python/answers/how-to-display-the-value-of-each-bar-in-a-bar-chart-using-matplotlib-in-python\n",
        "\n",
        "plt.rcdefaults()\n",
        "plt.xlabel('Number of Reviews')\n",
        "plt.title('Overall Ratings for Biased and Unbiased labels')\n",
        "df.groupby(df['LABEL']).RATING.value_counts().plot.barh(figsize = (10,10))\n",
        "for index, value in enumerate(df.groupby(df['LABEL']).RATING.value_counts()):\n",
        "    plt.text(value, index, str(value))\n",
        "\n",
        "plt.ylabel('Label, Rating')"
      ],
      "execution_count": 16,
      "outputs": [
        {
          "output_type": "execute_result",
          "data": {
            "text/plain": [
              "Text(0, 0.5, 'Label, Rating')"
            ]
          },
          "metadata": {
            "tags": []
          },
          "execution_count": 16
        },
        {
          "output_type": "display_data",
          "data": {
            "image/png": "[encoded data removed]",
            "text/plain": [
              "<Figure size 1000x1000 with 1 Axes>"
            ]
          },
          "metadata": {
            "tags": []
          }
        }
      ]
    },
    {
      "cell_type": "code",
      "metadata": {
        "colab": {
          "base_uri": "https://localhost:8080/",
          "height": 570
        },
        "id": "SCEYRH8ED1fF",
        "outputId": "a406ba89-fd3b-4bb2-b93b-f0c54d963184"
      },
      "source": [
        "df"
      ],
      "execution_count": 17,
      "outputs": [
        {
          "output_type": "execute_result",
          "data": {
            "text/html": [
              "<div>\n",
              "<style scoped>\n",
              "    .dataframe tbody tr th:only-of-type {\n",
              "        vertical-align: middle;\n",
              "    }\n",
              "\n",
              "    .dataframe tbody tr th {\n",
              "        vertical-align: top;\n",
              "    }\n",
              "\n",
              "    .dataframe thead th {\n",
              "        text-align: right;\n",
              "    }\n",
              "</style>\n",
              "<table border=\"1\" class=\"dataframe\">\n",
              "  <thead>\n",
              "    <tr style=\"text-align: right;\">\n",
              "      <th></th>\n",
              "      <th>DOC_ID</th>\n",
              "      <th>LABEL</th>\n",
              "      <th>RATING</th>\n",
              "      <th>VERIFIED_PURCHASE</th>\n",
              "      <th>PRODUCT_CATEGORY</th>\n",
              "      <th>PRODUCT_ID</th>\n",
              "      <th>PRODUCT_TITLE</th>\n",
              "      <th>REVIEW_TITLE</th>\n",
              "      <th>REVIEW_TEXT</th>\n",
              "    </tr>\n",
              "  </thead>\n",
              "  <tbody>\n",
              "    <tr>\n",
              "      <th>0</th>\n",
              "      <td>1</td>\n",
              "      <td>1</td>\n",
              "      <td>4</td>\n",
              "      <td>N</td>\n",
              "      <td>PC</td>\n",
              "      <td>B00008NG7N</td>\n",
              "      <td>Targus PAUK10U Ultra Mini USB Keypad, Black</td>\n",
              "      <td>useful</td>\n",
              "      <td>When least you think so, this product will sav...</td>\n",
              "    </tr>\n",
              "    <tr>\n",
              "      <th>1</th>\n",
              "      <td>2</td>\n",
              "      <td>1</td>\n",
              "      <td>4</td>\n",
              "      <td>Y</td>\n",
              "      <td>Wireless</td>\n",
              "      <td>B00LH0Y3NM</td>\n",
              "      <td>Note 3 Battery : Stalion Strength Replacement ...</td>\n",
              "      <td>New era for batteries</td>\n",
              "      <td>Lithium batteries are something new introduced...</td>\n",
              "    </tr>\n",
              "    <tr>\n",
              "      <th>2</th>\n",
              "      <td>3</td>\n",
              "      <td>1</td>\n",
              "      <td>3</td>\n",
              "      <td>N</td>\n",
              "      <td>Baby</td>\n",
              "      <td>B000I5UZ1Q</td>\n",
              "      <td>Fisher-Price Papasan Cradle Swing, Starlight</td>\n",
              "      <td>doesn't swing very well.</td>\n",
              "      <td>I purchased this swing for my baby. She is 6 m...</td>\n",
              "    </tr>\n",
              "    <tr>\n",
              "      <th>3</th>\n",
              "      <td>4</td>\n",
              "      <td>1</td>\n",
              "      <td>4</td>\n",
              "      <td>N</td>\n",
              "      <td>Office Products</td>\n",
              "      <td>B003822IRA</td>\n",
              "      <td>Casio MS-80B Standard Function Desktop Calculator</td>\n",
              "      <td>Great computing!</td>\n",
              "      <td>I was looking for an inexpensive desk calcolat...</td>\n",
              "    </tr>\n",
              "    <tr>\n",
              "      <th>4</th>\n",
              "      <td>5</td>\n",
              "      <td>1</td>\n",
              "      <td>4</td>\n",
              "      <td>N</td>\n",
              "      <td>Beauty</td>\n",
              "      <td>B00PWSAXAM</td>\n",
              "      <td>Shine Whitening - Zero Peroxide Teeth Whitenin...</td>\n",
              "      <td>Only use twice a week</td>\n",
              "      <td>I only use it twice a week and the results are...</td>\n",
              "    </tr>\n",
              "    <tr>\n",
              "      <th>...</th>\n",
              "      <td>...</td>\n",
              "      <td>...</td>\n",
              "      <td>...</td>\n",
              "      <td>...</td>\n",
              "      <td>...</td>\n",
              "      <td>...</td>\n",
              "      <td>...</td>\n",
              "      <td>...</td>\n",
              "      <td>...</td>\n",
              "    </tr>\n",
              "    <tr>\n",
              "      <th>20995</th>\n",
              "      <td>20996</td>\n",
              "      <td>0</td>\n",
              "      <td>4</td>\n",
              "      <td>Y</td>\n",
              "      <td>Shoes</td>\n",
              "      <td>B00BXYM8T8</td>\n",
              "      <td>Madden Girl Women's Gettaw Pump,Red Patent,7.5...</td>\n",
              "      <td>wide width is great!</td>\n",
              "      <td>I bought these for work.  I have high arches, ...</td>\n",
              "    </tr>\n",
              "    <tr>\n",
              "      <th>20996</th>\n",
              "      <td>20997</td>\n",
              "      <td>0</td>\n",
              "      <td>4</td>\n",
              "      <td>Y</td>\n",
              "      <td>Shoes</td>\n",
              "      <td>B0014C2ORK</td>\n",
              "      <td>crocs Unisex Classic Clog,Khaki,6 US Men's / 8...</td>\n",
              "      <td>Love crocs!</td>\n",
              "      <td>Crocs are one of only two brands of shoes that...</td>\n",
              "    </tr>\n",
              "    <tr>\n",
              "      <th>20997</th>\n",
              "      <td>20998</td>\n",
              "      <td>0</td>\n",
              "      <td>5</td>\n",
              "      <td>Y</td>\n",
              "      <td>Shoes</td>\n",
              "      <td>B000EX8CCQ</td>\n",
              "      <td>Minnetonka Men's 703 Leather Laced Softsole Mo...</td>\n",
              "      <td>I love moccasins This fit like it was custom m...</td>\n",
              "      <td>I love moccasins  This fit like it was custom ...</td>\n",
              "    </tr>\n",
              "    <tr>\n",
              "      <th>20998</th>\n",
              "      <td>20999</td>\n",
              "      <td>0</td>\n",
              "      <td>5</td>\n",
              "      <td>Y</td>\n",
              "      <td>Shoes</td>\n",
              "      <td>B00748YHVE</td>\n",
              "      <td>Ariat Womens Unbridled Fatbaby 9 B Powder Brown</td>\n",
              "      <td>This fit well, comfortable, best investment</td>\n",
              "      <td>I wish these were a little more durable. I got...</td>\n",
              "    </tr>\n",
              "    <tr>\n",
              "      <th>20999</th>\n",
              "      <td>21000</td>\n",
              "      <td>0</td>\n",
              "      <td>4</td>\n",
              "      <td>Y</td>\n",
              "      <td>Shoes</td>\n",
              "      <td>B00A46KTLU</td>\n",
              "      <td>VIBRAM FIVEFINGERS SPEED XC MENS HIKING SHOES,...</td>\n",
              "      <td>Love these shoes, except for the laces</td>\n",
              "      <td>I've been looking for a replacement for my bel...</td>\n",
              "    </tr>\n",
              "  </tbody>\n",
              "</table>\n",
              "<p>21000 rows × 9 columns</p>\n",
              "</div>"
            ],
            "text/plain": [
              "       DOC_ID  ...                                        REVIEW_TEXT\n",
              "0           1  ...  When least you think so, this product will sav...\n",
              "1           2  ...  Lithium batteries are something new introduced...\n",
              "2           3  ...  I purchased this swing for my baby. She is 6 m...\n",
              "3           4  ...  I was looking for an inexpensive desk calcolat...\n",
              "4           5  ...  I only use it twice a week and the results are...\n",
              "...       ...  ...                                                ...\n",
              "20995   20996  ...  I bought these for work.  I have high arches, ...\n",
              "20996   20997  ...  Crocs are one of only two brands of shoes that...\n",
              "20997   20998  ...  I love moccasins  This fit like it was custom ...\n",
              "20998   20999  ...  I wish these were a little more durable. I got...\n",
              "20999   21000  ...  I've been looking for a replacement for my bel...\n",
              "\n",
              "[21000 rows x 9 columns]"
            ]
          },
          "metadata": {
            "tags": []
          },
          "execution_count": 17
        }
      ]
    },
    {
      "cell_type": "code",
      "metadata": {
        "colab": {
          "base_uri": "https://localhost:8080/"
        },
        "id": "Sz-kBbzvHaPt",
        "outputId": "e50d21e5-4d11-491e-d7ea-c5316e1a8857"
      },
      "source": [
        "df.shape"
      ],
      "execution_count": 18,
      "outputs": [
        {
          "output_type": "execute_result",
          "data": {
            "text/plain": [
              "(21000, 9)"
            ]
          },
          "metadata": {
            "tags": []
          },
          "execution_count": 18
        }
      ]
    },
    {
      "cell_type": "code",
      "metadata": {
        "id": "cCmCPL4qNWpY"
      },
      "source": [
        ""
      ],
      "execution_count": 18,
      "outputs": []
    },
    {
      "cell_type": "markdown",
      "metadata": {
        "id": "kfMn0kb_hzaZ"
      },
      "source": [
        "**Data Cleaning**"
      ]
    },
    {
      "cell_type": "code",
      "metadata": {
        "colab": {
          "base_uri": "https://localhost:8080/"
        },
        "id": "ZOFIBVPdViV6",
        "outputId": "9c0405ae-e581-4c23-e893-fa886ebd5fb0"
      },
      "source": [
        "import wordcloud\n",
        "from nltk.corpus import stopwords\n",
        "import nltk\n",
        "import string\n",
        "import re\n",
        "nltk.download('stopwords')\n",
        "nltk.download('wordnet')\n",
        "nltk.download('punkt')\n",
        "nltk.download('averaged_perceptron_tagger')\n",
        "stop = stopwords.words('english')"
      ],
      "execution_count": 19,
      "outputs": [
        {
          "output_type": "stream",
          "text": [
            "[nltk_data] Downloading package stopwords to /root/nltk_data...\n",
            "[nltk_data]   Package stopwords is already up-to-date!\n",
            "[nltk_data] Downloading package wordnet to /root/nltk_data...\n",
            "[nltk_data]   Package wordnet is already up-to-date!\n",
            "[nltk_data] Downloading package punkt to /root/nltk_data...\n",
            "[nltk_data]   Package punkt is already up-to-date!\n",
            "[nltk_data] Downloading package averaged_perceptron_tagger to\n",
            "[nltk_data]     /root/nltk_data...\n",
            "[nltk_data]   Package averaged_perceptron_tagger is already up-to-\n",
            "[nltk_data]       date!\n"
          ],
          "name": "stdout"
        }
      ]
    },
    {
      "cell_type": "code",
      "metadata": {
        "id": "N9npu7v2XkQB"
      },
      "source": [
        "# Function to clean the review text. Converting to lower case, square brackets, extra spaces, URLs, html tags, removing punctuation, new line, words containing numbers and special characters\n",
        "\n",
        "def cleantext(text):\n",
        "    # Converting to lower case\n",
        "    text = text.lower()\n",
        "    # removing URLs\n",
        "    text = re.sub('https?://\\S+|www\\.\\S+', '', text)\n",
        "    # removing mentions\n",
        "    text = re.sub('@\\S+', '', text)\n",
        "    # removing hashtags\n",
        "    text = re.sub('#\\S+', '', text)\n",
        "    # removing punctuations\n",
        "    text = re.sub('[^-9A-Za-z ]', ' ' , text)\n",
        "    text = re.sub('\\[.*?\\]', '', text)\n",
        "    text = re.sub(\"\\W\",' ',text) \n",
        "    text = re.sub('<.*?>+', '', text)\n",
        "    text = re.sub('[%s]' % re.escape(string.punctuation), '', text)\n",
        "    text = re.sub('[‘’“”…]', '', text)\n",
        "    # removing new line\n",
        "    text = re.sub('\\n', '', text)\n",
        "    # removing numbers\n",
        "    text = re.sub('\\w*\\d\\w*', '', text)\n",
        "    # removing single characters\n",
        "    text = re.sub('\\s+[a-zA-Z]\\s+', ' ', text)\n",
        "    text = re.sub('\\^[a-zA-Z]\\s+', ' ', text)\n",
        "    # removing overspaces\n",
        "    text = re.sub('\\s+', ' ', text) \n",
        "    return text"
      ],
      "execution_count": 20,
      "outputs": []
    },
    {
      "cell_type": "code",
      "metadata": {
        "id": "dNnBlHb2XkMg"
      },
      "source": [
        "df['CLEAN_REVIEW_TEXT'] = df['REVIEW_TEXT'].apply(cleantext)"
      ],
      "execution_count": 21,
      "outputs": []
    },
    {
      "cell_type": "code",
      "metadata": {
        "id": "1VynSu-rHekt"
      },
      "source": [
        "df['CLEAN_PRODUCT_TITLE'] = df['PRODUCT_TITLE'].apply(cleantext)"
      ],
      "execution_count": 22,
      "outputs": []
    },
    {
      "cell_type": "code",
      "metadata": {
        "id": "wMOSuK4cHf-N"
      },
      "source": [
        "df['CLEAN_REVIEW_TITLE'] = df['REVIEW_TITLE'].apply(cleantext)"
      ],
      "execution_count": 23,
      "outputs": []
    },
    {
      "cell_type": "code",
      "metadata": {
        "id": "F3m3fp0udLdj"
      },
      "source": [
        "# Remove emojis\n",
        "# Reference : https://gist.github.com/slowkow/7a7f61f495e3dbb7e3d767f97bd7304b\n",
        "\n",
        "def remove_emoji(text):\n",
        "    emoji_pattern = re.compile(\"[\"\n",
        "                           u\"\\U0001F600-\\U0001F64F\"  # emoticons\n",
        "                           u\"\\U0001F300-\\U0001F5FF\"  # symbols & pictographs\n",
        "                           u\"\\U0001F680-\\U0001F6FF\"  # transport & map symbols\n",
        "                           u\"\\U0001F1E0-\\U0001F1FF\"  # flags \n",
        "                           u\"\\U00002702-\\U000027B0\"\n",
        "                           u\"\\U000024C2-\\U0001F251\"\n",
        "                           \"]+\", flags=re.UNICODE)\n",
        "    return emoji_pattern.sub(r'', text)"
      ],
      "execution_count": 24,
      "outputs": []
    },
    {
      "cell_type": "code",
      "metadata": {
        "id": "582BBJq4bKjQ"
      },
      "source": [
        "df['CLEAN_REVIEW_TEXT'] = df['CLEAN_REVIEW_TEXT'].apply(lambda x: remove_emoji(x))"
      ],
      "execution_count": 25,
      "outputs": []
    },
    {
      "cell_type": "code",
      "metadata": {
        "id": "1grxuAToHlLT"
      },
      "source": [
        "df['CLEAN_PRODUCT_TITLE'] = df['CLEAN_PRODUCT_TITLE'].apply(lambda x: remove_emoji(x))"
      ],
      "execution_count": 26,
      "outputs": []
    },
    {
      "cell_type": "code",
      "metadata": {
        "id": "TGhrlZPTHmgQ"
      },
      "source": [
        "df['CLEAN_REVIEW_TITLE'] = df['CLEAN_REVIEW_TITLE'].apply(lambda x: remove_emoji(x))"
      ],
      "execution_count": 27,
      "outputs": []
    },
    {
      "cell_type": "code",
      "metadata": {
        "id": "j4Hg28KRcQRG"
      },
      "source": [
        "# Remove stopwords\n",
        "\n",
        "#df['CLEAN_REVIEW_TEXT'] = df['CLEAN_REVIEW_TEXT'].apply(lambda x: \" \".join(x for x in x.split() if x not in stop))"
      ],
      "execution_count": 28,
      "outputs": []
    },
    {
      "cell_type": "code",
      "metadata": {
        "colab": {
          "base_uri": "https://localhost:8080/",
          "height": 430
        },
        "id": "NaF0KS61ds8S",
        "outputId": "84b628a7-c361-4806-b8a1-46da4e2b5332"
      },
      "source": [
        "df.head()"
      ],
      "execution_count": 30,
      "outputs": [
        {
          "output_type": "execute_result",
          "data": {
            "text/html": [
              "<div>\n",
              "<style scoped>\n",
              "    .dataframe tbody tr th:only-of-type {\n",
              "        vertical-align: middle;\n",
              "    }\n",
              "\n",
              "    .dataframe tbody tr th {\n",
              "        vertical-align: top;\n",
              "    }\n",
              "\n",
              "    .dataframe thead th {\n",
              "        text-align: right;\n",
              "    }\n",
              "</style>\n",
              "<table border=\"1\" class=\"dataframe\">\n",
              "  <thead>\n",
              "    <tr style=\"text-align: right;\">\n",
              "      <th></th>\n",
              "      <th>DOC_ID</th>\n",
              "      <th>LABEL</th>\n",
              "      <th>RATING</th>\n",
              "      <th>VERIFIED_PURCHASE</th>\n",
              "      <th>PRODUCT_CATEGORY</th>\n",
              "      <th>PRODUCT_ID</th>\n",
              "      <th>PRODUCT_TITLE</th>\n",
              "      <th>REVIEW_TITLE</th>\n",
              "      <th>REVIEW_TEXT</th>\n",
              "      <th>CLEAN_REVIEW_TEXT</th>\n",
              "      <th>CLEAN_PRODUCT_TITLE</th>\n",
              "      <th>CLEAN_REVIEW_TITLE</th>\n",
              "    </tr>\n",
              "  </thead>\n",
              "  <tbody>\n",
              "    <tr>\n",
              "      <th>0</th>\n",
              "      <td>1</td>\n",
              "      <td>1</td>\n",
              "      <td>4</td>\n",
              "      <td>N</td>\n",
              "      <td>PC</td>\n",
              "      <td>B00008NG7N</td>\n",
              "      <td>Targus PAUK10U Ultra Mini USB Keypad, Black</td>\n",
              "      <td>useful</td>\n",
              "      <td>When least you think so, this product will sav...</td>\n",
              "      <td>when least you think so this product will save...</td>\n",
              "      <td>targus pauk ultra mini usb keypad black</td>\n",
              "      <td>useful</td>\n",
              "    </tr>\n",
              "    <tr>\n",
              "      <th>1</th>\n",
              "      <td>2</td>\n",
              "      <td>1</td>\n",
              "      <td>4</td>\n",
              "      <td>Y</td>\n",
              "      <td>Wireless</td>\n",
              "      <td>B00LH0Y3NM</td>\n",
              "      <td>Note 3 Battery : Stalion Strength Replacement ...</td>\n",
              "      <td>New era for batteries</td>\n",
              "      <td>Lithium batteries are something new introduced...</td>\n",
              "      <td>lithium batteries are something new introduced...</td>\n",
              "      <td>note battery stalion strength replacement mah ...</td>\n",
              "      <td>new era for batteries</td>\n",
              "    </tr>\n",
              "    <tr>\n",
              "      <th>2</th>\n",
              "      <td>3</td>\n",
              "      <td>1</td>\n",
              "      <td>3</td>\n",
              "      <td>N</td>\n",
              "      <td>Baby</td>\n",
              "      <td>B000I5UZ1Q</td>\n",
              "      <td>Fisher-Price Papasan Cradle Swing, Starlight</td>\n",
              "      <td>doesn't swing very well.</td>\n",
              "      <td>I purchased this swing for my baby. She is 6 m...</td>\n",
              "      <td>i purchased this swing for my baby she is mont...</td>\n",
              "      <td>fisher price papasan cradle swing starlight</td>\n",
              "      <td>doesn swing very well</td>\n",
              "    </tr>\n",
              "    <tr>\n",
              "      <th>3</th>\n",
              "      <td>4</td>\n",
              "      <td>1</td>\n",
              "      <td>4</td>\n",
              "      <td>N</td>\n",
              "      <td>Office Products</td>\n",
              "      <td>B003822IRA</td>\n",
              "      <td>Casio MS-80B Standard Function Desktop Calculator</td>\n",
              "      <td>Great computing!</td>\n",
              "      <td>I was looking for an inexpensive desk calcolat...</td>\n",
              "      <td>i was looking for an inexpensive desk calcolat...</td>\n",
              "      <td>casio ms standard function desktop calculator</td>\n",
              "      <td>great computing</td>\n",
              "    </tr>\n",
              "    <tr>\n",
              "      <th>4</th>\n",
              "      <td>5</td>\n",
              "      <td>1</td>\n",
              "      <td>4</td>\n",
              "      <td>N</td>\n",
              "      <td>Beauty</td>\n",
              "      <td>B00PWSAXAM</td>\n",
              "      <td>Shine Whitening - Zero Peroxide Teeth Whitenin...</td>\n",
              "      <td>Only use twice a week</td>\n",
              "      <td>I only use it twice a week and the results are...</td>\n",
              "      <td>i only use it twice week and the results are g...</td>\n",
              "      <td>shine whitening zero peroxide teeth whitening ...</td>\n",
              "      <td>only use twice week</td>\n",
              "    </tr>\n",
              "  </tbody>\n",
              "</table>\n",
              "</div>"
            ],
            "text/plain": [
              "   DOC_ID  ...      CLEAN_REVIEW_TITLE\n",
              "0       1  ...                  useful\n",
              "1       2  ...   new era for batteries\n",
              "2       3  ...  doesn swing very well \n",
              "3       4  ...        great computing \n",
              "4       5  ...     only use twice week\n",
              "\n",
              "[5 rows x 12 columns]"
            ]
          },
          "metadata": {
            "tags": []
          },
          "execution_count": 30
        }
      ]
    },
    {
      "cell_type": "code",
      "metadata": {
        "id": "KiywGkLe-uB3"
      },
      "source": [
        "df_copy = df.copy()"
      ],
      "execution_count": 31,
      "outputs": []
    },
    {
      "cell_type": "code",
      "metadata": {
        "colab": {
          "base_uri": "https://localhost:8080/",
          "height": 106
        },
        "id": "AuqGxFWr-tvV",
        "outputId": "b09f87cd-7d15-4fa9-b79c-3c167d61562c"
      },
      "source": [
        "# Dropping unused columns\n",
        "\n",
        "df = df.drop([\"DOC_ID\", \"PRODUCT_ID\", \"PRODUCT_TITLE\", \"REVIEW_TITLE\",\"REVIEW_TEXT\"], axis=1)\n",
        "df.head(2)"
      ],
      "execution_count": 32,
      "outputs": [
        {
          "output_type": "execute_result",
          "data": {
            "text/html": [
              "<div>\n",
              "<style scoped>\n",
              "    .dataframe tbody tr th:only-of-type {\n",
              "        vertical-align: middle;\n",
              "    }\n",
              "\n",
              "    .dataframe tbody tr th {\n",
              "        vertical-align: top;\n",
              "    }\n",
              "\n",
              "    .dataframe thead th {\n",
              "        text-align: right;\n",
              "    }\n",
              "</style>\n",
              "<table border=\"1\" class=\"dataframe\">\n",
              "  <thead>\n",
              "    <tr style=\"text-align: right;\">\n",
              "      <th></th>\n",
              "      <th>LABEL</th>\n",
              "      <th>RATING</th>\n",
              "      <th>VERIFIED_PURCHASE</th>\n",
              "      <th>PRODUCT_CATEGORY</th>\n",
              "      <th>CLEAN_REVIEW_TEXT</th>\n",
              "      <th>CLEAN_PRODUCT_TITLE</th>\n",
              "      <th>CLEAN_REVIEW_TITLE</th>\n",
              "    </tr>\n",
              "  </thead>\n",
              "  <tbody>\n",
              "    <tr>\n",
              "      <th>0</th>\n",
              "      <td>1</td>\n",
              "      <td>4</td>\n",
              "      <td>N</td>\n",
              "      <td>PC</td>\n",
              "      <td>when least you think so this product will save...</td>\n",
              "      <td>targus pauk ultra mini usb keypad black</td>\n",
              "      <td>useful</td>\n",
              "    </tr>\n",
              "    <tr>\n",
              "      <th>1</th>\n",
              "      <td>1</td>\n",
              "      <td>4</td>\n",
              "      <td>Y</td>\n",
              "      <td>Wireless</td>\n",
              "      <td>lithium batteries are something new introduced...</td>\n",
              "      <td>note battery stalion strength replacement mah ...</td>\n",
              "      <td>new era for batteries</td>\n",
              "    </tr>\n",
              "  </tbody>\n",
              "</table>\n",
              "</div>"
            ],
            "text/plain": [
              "  LABEL  ...     CLEAN_REVIEW_TITLE\n",
              "0     1  ...                 useful\n",
              "1     1  ...  new era for batteries\n",
              "\n",
              "[2 rows x 7 columns]"
            ]
          },
          "metadata": {
            "tags": []
          },
          "execution_count": 32
        }
      ]
    },
    {
      "cell_type": "code",
      "metadata": {
        "id": "BYjXk73wGlMv"
      },
      "source": [
        ""
      ],
      "execution_count": 32,
      "outputs": []
    },
    {
      "cell_type": "markdown",
      "metadata": {
        "id": "FkDYl9d1GgGy"
      },
      "source": [
        "**Model Training**"
      ]
    },
    {
      "cell_type": "code",
      "metadata": {
        "id": "QPNr1zKp00q_"
      },
      "source": [
        "from sklearn.model_selection import train_test_split\n",
        "from sklearn.metrics import classification_report\n",
        "from sklearn.feature_extraction.text import TfidfVectorizer\n",
        "from sklearn.metrics import accuracy_score, confusion_matrix"
      ],
      "execution_count": 33,
      "outputs": []
    },
    {
      "cell_type": "code",
      "metadata": {
        "id": "sFQ86QvWwKLI"
      },
      "source": [
        "# Split the dataset\n",
        "\n",
        "x_train, x_test, y_train, y_test = train_test_split(df.drop(\"LABEL\", axis=1), df[\"LABEL\"], test_size=0.2, random_state=1)"
      ],
      "execution_count": 34,
      "outputs": []
    },
    {
      "cell_type": "code",
      "metadata": {
        "colab": {
          "base_uri": "https://localhost:8080/",
          "height": 106
        },
        "id": "M9zI2VVVBr7a",
        "outputId": "4e7caaea-0a03-47c8-c7e6-e05a2ee52a87"
      },
      "source": [
        "x_train.head(2)"
      ],
      "execution_count": 35,
      "outputs": [
        {
          "output_type": "execute_result",
          "data": {
            "text/html": [
              "<div>\n",
              "<style scoped>\n",
              "    .dataframe tbody tr th:only-of-type {\n",
              "        vertical-align: middle;\n",
              "    }\n",
              "\n",
              "    .dataframe tbody tr th {\n",
              "        vertical-align: top;\n",
              "    }\n",
              "\n",
              "    .dataframe thead th {\n",
              "        text-align: right;\n",
              "    }\n",
              "</style>\n",
              "<table border=\"1\" class=\"dataframe\">\n",
              "  <thead>\n",
              "    <tr style=\"text-align: right;\">\n",
              "      <th></th>\n",
              "      <th>RATING</th>\n",
              "      <th>VERIFIED_PURCHASE</th>\n",
              "      <th>PRODUCT_CATEGORY</th>\n",
              "      <th>CLEAN_REVIEW_TEXT</th>\n",
              "      <th>CLEAN_PRODUCT_TITLE</th>\n",
              "      <th>CLEAN_REVIEW_TITLE</th>\n",
              "    </tr>\n",
              "  </thead>\n",
              "  <tbody>\n",
              "    <tr>\n",
              "      <th>16106</th>\n",
              "      <td>5</td>\n",
              "      <td>Y</td>\n",
              "      <td>Watches</td>\n",
              "      <td>great watch with nice contrast between the bla...</td>\n",
              "      <td>timex women t expedition field burnt sienna le...</td>\n",
              "      <td>great watch with nice contrast between the bla...</td>\n",
              "    </tr>\n",
              "    <tr>\n",
              "      <th>10729</th>\n",
              "      <td>4</td>\n",
              "      <td>N</td>\n",
              "      <td>Office Products</td>\n",
              "      <td>we are on our second of these printers the fir...</td>\n",
              "      <td>lexmark n mfp color laser ppm s f frnt pic bridge</td>\n",
              "      <td>good laser printer with true to life color</td>\n",
              "    </tr>\n",
              "  </tbody>\n",
              "</table>\n",
              "</div>"
            ],
            "text/plain": [
              "       RATING  ...                                 CLEAN_REVIEW_TITLE\n",
              "16106       5  ...  great watch with nice contrast between the bla...\n",
              "10729       4  ...         good laser printer with true to life color\n",
              "\n",
              "[2 rows x 6 columns]"
            ]
          },
          "metadata": {
            "tags": []
          },
          "execution_count": 35
        }
      ]
    },
    {
      "cell_type": "code",
      "metadata": {
        "id": "q_ApbmGSBxS-"
      },
      "source": [
        "X_train_text = x_train['CLEAN_REVIEW_TEXT'] + x_train['CLEAN_PRODUCT_TITLE'] + x_train['CLEAN_REVIEW_TITLE']\n",
        "X_train_rating = np.array(x_train['RATING'])\n",
        "X_train_verified = np.array(x_train['VERIFIED_PURCHASE'])\n",
        "X_train_pcat = np.array(x_train['PRODUCT_CATEGORY'])"
      ],
      "execution_count": 36,
      "outputs": []
    },
    {
      "cell_type": "code",
      "metadata": {
        "id": "crsnpOqJC7TR"
      },
      "source": [
        "X_test_text = x_test['CLEAN_REVIEW_TEXT'] + x_test['CLEAN_PRODUCT_TITLE'] + x_test['CLEAN_REVIEW_TITLE']\n",
        "X_test_rating = np.array(x_test['RATING'])\n",
        "X_test_verified = np.array(x_test['VERIFIED_PURCHASE'])\n",
        "X_test_pcat = np.array(x_test['PRODUCT_CATEGORY'])"
      ],
      "execution_count": 37,
      "outputs": []
    },
    {
      "cell_type": "code",
      "metadata": {
        "id": "5aay4pl-vbyt"
      },
      "source": [
        "# Initialize a TfidfVectorizer\n",
        "\n",
        "vectorization = TfidfVectorizer(stop_words='english')\n",
        "\n",
        "# Fit and transform train set, transform test set\n",
        "X_train_text_tfidf = vectorization.fit_transform(X_train_text)\n",
        "X_test_text_tfidf = vectorization.transform(X_test_text)"
      ],
      "execution_count": 38,
      "outputs": []
    },
    {
      "cell_type": "markdown",
      "metadata": {
        "id": "QukdX7wIidAQ"
      },
      "source": [
        "**Encoding categorical features as a one-hot numeric array.**"
      ]
    },
    {
      "cell_type": "code",
      "metadata": {
        "id": "cfRQTHpq51Q6"
      },
      "source": [
        "from sklearn.preprocessing import OneHotEncoder"
      ],
      "execution_count": 39,
      "outputs": []
    },
    {
      "cell_type": "code",
      "metadata": {
        "id": "cjc-QhVHDbKr"
      },
      "source": [
        "ohe_rating = OneHotEncoder()\n",
        "ohe_verified = OneHotEncoder()\n",
        "ohe_pcat = OneHotEncoder()\n",
        "\n",
        "X_train_rating_ohe = ohe_rating.fit_transform(X_train_rating.reshape((-1,1)))\n",
        "X_test_rating_ohe = ohe_rating.transform(X_test_rating.reshape((-1,1)))\n",
        "\n",
        "X_train_verified_ohe = ohe_verified.fit_transform(X_train_verified.reshape((-1,1)))\n",
        "X_test_verified_ohe = ohe_verified.transform(X_test_verified.reshape((-1,1)))\n",
        "\n",
        "X_train_pcat_ohe = ohe_pcat.fit_transform(X_train_pcat.reshape((-1,1)))\n",
        "X_test_pcat_ohe = ohe_pcat.transform(X_test_pcat.reshape((-1,1)))"
      ],
      "execution_count": 40,
      "outputs": []
    },
    {
      "cell_type": "code",
      "metadata": {
        "colab": {
          "base_uri": "https://localhost:8080/"
        },
        "id": "4yU4T-s1Fi_k",
        "outputId": "ce893c49-444d-41c1-eab8-cba5092bd038"
      },
      "source": [
        "X_train_text_tfidf.shape, X_train_pcat_ohe.shape, X_train_rating_ohe.shape, X_train_verified_ohe.shape"
      ],
      "execution_count": 41,
      "outputs": [
        {
          "output_type": "execute_result",
          "data": {
            "text/plain": [
              "((16800, 48195), (16800, 30), (16800, 5), (16800, 2))"
            ]
          },
          "metadata": {
            "tags": []
          },
          "execution_count": 41
        }
      ]
    },
    {
      "cell_type": "markdown",
      "metadata": {
        "id": "C_uWdSPujDgW"
      },
      "source": [
        "**The hstack() function is used to stack arrays in sequence horizontally (column wise).**"
      ]
    },
    {
      "cell_type": "code",
      "metadata": {
        "id": "GdNDS_2oIX1l"
      },
      "source": [
        "from scipy.sparse import hstack"
      ],
      "execution_count": 42,
      "outputs": []
    },
    {
      "cell_type": "code",
      "metadata": {
        "id": "WG0yapy7F3M3"
      },
      "source": [
        "X_train = hstack((X_train_verified_ohe, X_train_rating_ohe, X_train_pcat_ohe, X_train_text_tfidf))\n",
        "X_test = hstack((X_test_verified_ohe, X_test_rating_ohe, X_test_pcat_ohe, X_test_text_tfidf))"
      ],
      "execution_count": 43,
      "outputs": []
    },
    {
      "cell_type": "code",
      "metadata": {
        "colab": {
          "base_uri": "https://localhost:8080/"
        },
        "id": "LRtOfoPDG1y4",
        "outputId": "d371544e-d765-45c7-8c2a-79789479e90e"
      },
      "source": [
        "X_train.shape"
      ],
      "execution_count": 44,
      "outputs": [
        {
          "output_type": "execute_result",
          "data": {
            "text/plain": [
              "(16800, 48232)"
            ]
          },
          "metadata": {
            "tags": []
          },
          "execution_count": 44
        }
      ]
    },
    {
      "cell_type": "markdown",
      "metadata": {
        "id": "AUUWOhgkwhx_"
      },
      "source": [
        "**1. Logistic Regression**"
      ]
    },
    {
      "cell_type": "code",
      "metadata": {
        "id": "5NycfQdavdLh"
      },
      "source": [
        "from sklearn.linear_model import LogisticRegression"
      ],
      "execution_count": 45,
      "outputs": []
    },
    {
      "cell_type": "code",
      "metadata": {
        "colab": {
          "base_uri": "https://localhost:8080/"
        },
        "id": "YCij1VlYvmyf",
        "outputId": "5f86abd1-f38c-45ff-f7d3-2f9909857110"
      },
      "source": [
        "LR = LogisticRegression()\n",
        "LR.fit(X_train,y_train)"
      ],
      "execution_count": 46,
      "outputs": [
        {
          "output_type": "stream",
          "text": [
            "/usr/local/lib/python3.7/dist-packages/sklearn/linear_model/_logistic.py:940: ConvergenceWarning: lbfgs failed to converge (status=1):\n",
            "STOP: TOTAL NO. of ITERATIONS REACHED LIMIT.\n",
            "\n",
            "Increase the number of iterations (max_iter) or scale the data as shown in:\n",
            "    https://scikit-learn.org/stable/modules/preprocessing.html\n",
            "Please also refer to the documentation for alternative solver options:\n",
            "    https://scikit-learn.org/stable/modules/linear_model.html#logistic-regression\n",
            "  extra_warning_msg=_LOGISTIC_SOLVER_CONVERGENCE_MSG)\n"
          ],
          "name": "stderr"
        },
        {
          "output_type": "execute_result",
          "data": {
            "text/plain": [
              "LogisticRegression(C=1.0, class_weight=None, dual=False, fit_intercept=True,\n",
              "                   intercept_scaling=1, l1_ratio=None, max_iter=100,\n",
              "                   multi_class='auto', n_jobs=None, penalty='l2',\n",
              "                   random_state=None, solver='lbfgs', tol=0.0001, verbose=0,\n",
              "                   warm_start=False)"
            ]
          },
          "metadata": {
            "tags": []
          },
          "execution_count": 46
        }
      ]
    },
    {
      "cell_type": "code",
      "metadata": {
        "id": "G19FYUGuvplp"
      },
      "source": [
        "pred_lr=LR.predict(X_test)"
      ],
      "execution_count": 47,
      "outputs": []
    },
    {
      "cell_type": "code",
      "metadata": {
        "colab": {
          "base_uri": "https://localhost:8080/"
        },
        "id": "c1SXNzgaGlWK",
        "outputId": "e0ae78cd-adf4-4976-884c-3f3be5e12f57"
      },
      "source": [
        "LR_acc = round(LR.score(X_test, y_test)*100,2)\n",
        "LR_acc"
      ],
      "execution_count": 48,
      "outputs": [
        {
          "output_type": "execute_result",
          "data": {
            "text/plain": [
              "82.48"
            ]
          },
          "metadata": {
            "tags": []
          },
          "execution_count": 48
        }
      ]
    },
    {
      "cell_type": "code",
      "metadata": {
        "colab": {
          "base_uri": "https://localhost:8080/"
        },
        "id": "3r-HeNJVJNnz",
        "outputId": "8d595508-7f19-4804-8826-d4ed597f5c0e"
      },
      "source": [
        "# Build confusion matrix\n",
        "\n",
        "confusion_matrix(y_test,pred_lr, labels=['1','0'])"
      ],
      "execution_count": 49,
      "outputs": [
        {
          "output_type": "execute_result",
          "data": {
            "text/plain": [
              "array([[1731,  401],\n",
              "       [ 335, 1733]])"
            ]
          },
          "metadata": {
            "tags": []
          },
          "execution_count": 49
        }
      ]
    },
    {
      "cell_type": "code",
      "metadata": {
        "colab": {
          "base_uri": "https://localhost:8080/"
        },
        "id": "oE9zjW6iv0OJ",
        "outputId": "7ba775a2-ef18-48e4-8367-38708a29aa45"
      },
      "source": [
        "print(classification_report(y_test, pred_lr))"
      ],
      "execution_count": 50,
      "outputs": [
        {
          "output_type": "stream",
          "text": [
            "              precision    recall  f1-score   support\n",
            "\n",
            "           0       0.81      0.84      0.82      2068\n",
            "           1       0.84      0.81      0.82      2132\n",
            "\n",
            "    accuracy                           0.82      4200\n",
            "   macro avg       0.82      0.82      0.82      4200\n",
            "weighted avg       0.83      0.82      0.82      4200\n",
            "\n"
          ],
          "name": "stdout"
        }
      ]
    },
    {
      "cell_type": "markdown",
      "metadata": {
        "id": "37yXXv7Vw0E6"
      },
      "source": [
        "**2. Decision Tree Classification**"
      ]
    },
    {
      "cell_type": "code",
      "metadata": {
        "id": "wQqYHSWz4-6O"
      },
      "source": [
        "from sklearn.tree import DecisionTreeClassifier"
      ],
      "execution_count": 51,
      "outputs": []
    },
    {
      "cell_type": "code",
      "metadata": {
        "colab": {
          "base_uri": "https://localhost:8080/"
        },
        "id": "P5bkVRn84-3L",
        "outputId": "90c1e9d9-b0e7-4e3c-da30-42aad577912f"
      },
      "source": [
        "DT = DecisionTreeClassifier()\n",
        "DT.fit(X_train, y_train)"
      ],
      "execution_count": 52,
      "outputs": [
        {
          "output_type": "execute_result",
          "data": {
            "text/plain": [
              "DecisionTreeClassifier(ccp_alpha=0.0, class_weight=None, criterion='gini',\n",
              "                       max_depth=None, max_features=None, max_leaf_nodes=None,\n",
              "                       min_impurity_decrease=0.0, min_impurity_split=None,\n",
              "                       min_samples_leaf=1, min_samples_split=2,\n",
              "                       min_weight_fraction_leaf=0.0, presort='deprecated',\n",
              "                       random_state=None, splitter='best')"
            ]
          },
          "metadata": {
            "tags": []
          },
          "execution_count": 52
        }
      ]
    },
    {
      "cell_type": "code",
      "metadata": {
        "id": "vw3gS3GO4-zt"
      },
      "source": [
        "pred_dt = DT.predict(X_test)"
      ],
      "execution_count": 53,
      "outputs": []
    },
    {
      "cell_type": "code",
      "metadata": {
        "colab": {
          "base_uri": "https://localhost:8080/"
        },
        "id": "nUcP9ELq4-iv",
        "outputId": "a4b605de-e3f4-45de-f8ff-0d7d778853dc"
      },
      "source": [
        "DT_acc = round(DT.score(X_test, y_test)*100,2)\n",
        "DT_acc"
      ],
      "execution_count": 54,
      "outputs": [
        {
          "output_type": "execute_result",
          "data": {
            "text/plain": [
              "76.88"
            ]
          },
          "metadata": {
            "tags": []
          },
          "execution_count": 54
        }
      ]
    },
    {
      "cell_type": "code",
      "metadata": {
        "colab": {
          "base_uri": "https://localhost:8080/"
        },
        "id": "zCK4mTA_JIST",
        "outputId": "ea21ac6c-31b9-4fa3-c4e7-7fbfa11bdd9e"
      },
      "source": [
        "# Build confusion matrix\n",
        "\n",
        "confusion_matrix(y_test,pred_dt, labels=['1','0'])"
      ],
      "execution_count": 55,
      "outputs": [
        {
          "output_type": "execute_result",
          "data": {
            "text/plain": [
              "array([[1662,  470],\n",
              "       [ 501, 1567]])"
            ]
          },
          "metadata": {
            "tags": []
          },
          "execution_count": 55
        }
      ]
    },
    {
      "cell_type": "code",
      "metadata": {
        "id": "hdyiYVTh01pZ",
        "colab": {
          "base_uri": "https://localhost:8080/"
        },
        "outputId": "17147b40-b115-4c22-b1d7-e374428bf298"
      },
      "source": [
        "print(classification_report(y_test, pred_dt))"
      ],
      "execution_count": 56,
      "outputs": [
        {
          "output_type": "stream",
          "text": [
            "              precision    recall  f1-score   support\n",
            "\n",
            "           0       0.77      0.76      0.76      2068\n",
            "           1       0.77      0.78      0.77      2132\n",
            "\n",
            "    accuracy                           0.77      4200\n",
            "   macro avg       0.77      0.77      0.77      4200\n",
            "weighted avg       0.77      0.77      0.77      4200\n",
            "\n"
          ],
          "name": "stdout"
        }
      ]
    },
    {
      "cell_type": "markdown",
      "metadata": {
        "id": "nImsv9AryFhw"
      },
      "source": [
        "**3. Gradient Boosting Classifier**"
      ]
    },
    {
      "cell_type": "code",
      "metadata": {
        "id": "-zE_991QP0sX"
      },
      "source": [
        "from sklearn.ensemble import GradientBoostingClassifier"
      ],
      "execution_count": 57,
      "outputs": []
    },
    {
      "cell_type": "code",
      "metadata": {
        "id": "MiIUtlek1xoc",
        "colab": {
          "base_uri": "https://localhost:8080/"
        },
        "outputId": "c5408348-37dc-4849-9cde-2ea738f9ad36"
      },
      "source": [
        "GBC = GradientBoostingClassifier(random_state=0)\n",
        "GBC.fit(X_train, y_train)"
      ],
      "execution_count": 58,
      "outputs": [
        {
          "output_type": "execute_result",
          "data": {
            "text/plain": [
              "GradientBoostingClassifier(ccp_alpha=0.0, criterion='friedman_mse', init=None,\n",
              "                           learning_rate=0.1, loss='deviance', max_depth=3,\n",
              "                           max_features=None, max_leaf_nodes=None,\n",
              "                           min_impurity_decrease=0.0, min_impurity_split=None,\n",
              "                           min_samples_leaf=1, min_samples_split=2,\n",
              "                           min_weight_fraction_leaf=0.0, n_estimators=100,\n",
              "                           n_iter_no_change=None, presort='deprecated',\n",
              "                           random_state=0, subsample=1.0, tol=0.0001,\n",
              "                           validation_fraction=0.1, verbose=0,\n",
              "                           warm_start=False)"
            ]
          },
          "metadata": {
            "tags": []
          },
          "execution_count": 58
        }
      ]
    },
    {
      "cell_type": "code",
      "metadata": {
        "id": "zpJgUk8-34fq"
      },
      "source": [
        "pred_gbc = GBC.predict(X_test)"
      ],
      "execution_count": 59,
      "outputs": []
    },
    {
      "cell_type": "code",
      "metadata": {
        "colab": {
          "base_uri": "https://localhost:8080/"
        },
        "id": "lLi3F2tFJ4mR",
        "outputId": "500776f3-a801-4e08-b025-61e94551c414"
      },
      "source": [
        "GBC_acc = round(GBC.score(X_test, y_test)*100,2)\n",
        "GBC_acc"
      ],
      "execution_count": 60,
      "outputs": [
        {
          "output_type": "execute_result",
          "data": {
            "text/plain": [
              "80.36"
            ]
          },
          "metadata": {
            "tags": []
          },
          "execution_count": 60
        }
      ]
    },
    {
      "cell_type": "code",
      "metadata": {
        "colab": {
          "base_uri": "https://localhost:8080/"
        },
        "id": "qU8H-OiIJC-F",
        "outputId": "284e6938-3cfc-4690-fc45-710974bd7b24"
      },
      "source": [
        "# Build confusion matrix\n",
        "\n",
        "confusion_matrix(y_test,pred_gbc, labels=['1','0'])"
      ],
      "execution_count": 61,
      "outputs": [
        {
          "output_type": "execute_result",
          "data": {
            "text/plain": [
              "array([[1610,  522],\n",
              "       [ 303, 1765]])"
            ]
          },
          "metadata": {
            "tags": []
          },
          "execution_count": 61
        }
      ]
    },
    {
      "cell_type": "code",
      "metadata": {
        "id": "eeybcU5785lP",
        "colab": {
          "base_uri": "https://localhost:8080/"
        },
        "outputId": "0cba8b07-6d56-4a6c-c15e-3ef65021fa29"
      },
      "source": [
        "print(classification_report(y_test, pred_gbc))"
      ],
      "execution_count": 62,
      "outputs": [
        {
          "output_type": "stream",
          "text": [
            "              precision    recall  f1-score   support\n",
            "\n",
            "           0       0.77      0.85      0.81      2068\n",
            "           1       0.84      0.76      0.80      2132\n",
            "\n",
            "    accuracy                           0.80      4200\n",
            "   macro avg       0.81      0.80      0.80      4200\n",
            "weighted avg       0.81      0.80      0.80      4200\n",
            "\n"
          ],
          "name": "stdout"
        }
      ]
    },
    {
      "cell_type": "markdown",
      "metadata": {
        "id": "ADt4JJCry57W"
      },
      "source": [
        "**4. Random Forest Classifier**"
      ]
    },
    {
      "cell_type": "code",
      "metadata": {
        "id": "A3svYfFv4R7X"
      },
      "source": [
        "from sklearn.ensemble import RandomForestClassifier"
      ],
      "execution_count": 63,
      "outputs": []
    },
    {
      "cell_type": "code",
      "metadata": {
        "id": "-9WqUwzoMhzP",
        "colab": {
          "base_uri": "https://localhost:8080/"
        },
        "outputId": "b8da3834-05a1-48fc-ecaa-9673481b856c"
      },
      "source": [
        "RFC = RandomForestClassifier(random_state=0)\n",
        "RFC.fit(X_train, y_train)"
      ],
      "execution_count": 64,
      "outputs": [
        {
          "output_type": "execute_result",
          "data": {
            "text/plain": [
              "RandomForestClassifier(bootstrap=True, ccp_alpha=0.0, class_weight=None,\n",
              "                       criterion='gini', max_depth=None, max_features='auto',\n",
              "                       max_leaf_nodes=None, max_samples=None,\n",
              "                       min_impurity_decrease=0.0, min_impurity_split=None,\n",
              "                       min_samples_leaf=1, min_samples_split=2,\n",
              "                       min_weight_fraction_leaf=0.0, n_estimators=100,\n",
              "                       n_jobs=None, oob_score=False, random_state=0, verbose=0,\n",
              "                       warm_start=False)"
            ]
          },
          "metadata": {
            "tags": []
          },
          "execution_count": 64
        }
      ]
    },
    {
      "cell_type": "code",
      "metadata": {
        "id": "pxu5eQS3zAF_"
      },
      "source": [
        "pred_rfc = RFC.predict(X_test)"
      ],
      "execution_count": 65,
      "outputs": []
    },
    {
      "cell_type": "code",
      "metadata": {
        "colab": {
          "base_uri": "https://localhost:8080/"
        },
        "id": "7cpWBJqIKM-C",
        "outputId": "5ebc7ce5-3206-4349-a26c-56e4624845cb"
      },
      "source": [
        "RFC_acc = round(RFC.score(X_test, y_test)*100,2)\n",
        "RFC_acc"
      ],
      "execution_count": 66,
      "outputs": [
        {
          "output_type": "execute_result",
          "data": {
            "text/plain": [
              "82.57"
            ]
          },
          "metadata": {
            "tags": []
          },
          "execution_count": 66
        }
      ]
    },
    {
      "cell_type": "code",
      "metadata": {
        "colab": {
          "base_uri": "https://localhost:8080/"
        },
        "id": "St0nuMRpI8Mq",
        "outputId": "7e18ce94-a0c2-4d6d-bec6-abe618e5dc83"
      },
      "source": [
        "# Build confusion matrix\n",
        "\n",
        "confusion_matrix(y_test,pred_rfc, labels=['1','0'])"
      ],
      "execution_count": 67,
      "outputs": [
        {
          "output_type": "execute_result",
          "data": {
            "text/plain": [
              "array([[1707,  425],\n",
              "       [ 307, 1761]])"
            ]
          },
          "metadata": {
            "tags": []
          },
          "execution_count": 67
        }
      ]
    },
    {
      "cell_type": "code",
      "metadata": {
        "colab": {
          "base_uri": "https://localhost:8080/"
        },
        "id": "oD93bsEkzEeR",
        "outputId": "6b53607f-2142-4c4f-93e1-c836dad2856e"
      },
      "source": [
        "print(classification_report(y_test, pred_rfc))"
      ],
      "execution_count": 68,
      "outputs": [
        {
          "output_type": "stream",
          "text": [
            "              precision    recall  f1-score   support\n",
            "\n",
            "           0       0.81      0.85      0.83      2068\n",
            "           1       0.85      0.80      0.82      2132\n",
            "\n",
            "    accuracy                           0.83      4200\n",
            "   macro avg       0.83      0.83      0.83      4200\n",
            "weighted avg       0.83      0.83      0.83      4200\n",
            "\n"
          ],
          "name": "stdout"
        }
      ]
    },
    {
      "cell_type": "markdown",
      "metadata": {
        "id": "YPBubTC8tSx-"
      },
      "source": [
        "**5. PassiveAggressiveClassifier**"
      ]
    },
    {
      "cell_type": "code",
      "metadata": {
        "id": "tngfANtQ3szc"
      },
      "source": [
        "from sklearn.linear_model import PassiveAggressiveClassifier"
      ],
      "execution_count": 69,
      "outputs": []
    },
    {
      "cell_type": "code",
      "metadata": {
        "colab": {
          "base_uri": "https://localhost:8080/"
        },
        "id": "-dv5cYCa-tcF",
        "outputId": "76d8217c-cbff-432c-c79b-fda04caf7461"
      },
      "source": [
        "pac = PassiveAggressiveClassifier()\n",
        "pac.fit(X_train,y_train)"
      ],
      "execution_count": 70,
      "outputs": [
        {
          "output_type": "execute_result",
          "data": {
            "text/plain": [
              "PassiveAggressiveClassifier(C=1.0, average=False, class_weight=None,\n",
              "                            early_stopping=False, fit_intercept=True,\n",
              "                            loss='hinge', max_iter=1000, n_iter_no_change=5,\n",
              "                            n_jobs=None, random_state=None, shuffle=True,\n",
              "                            tol=0.001, validation_fraction=0.1, verbose=0,\n",
              "                            warm_start=False)"
            ]
          },
          "metadata": {
            "tags": []
          },
          "execution_count": 70
        }
      ]
    },
    {
      "cell_type": "code",
      "metadata": {
        "id": "QxTECPx335cc"
      },
      "source": [
        "pred_pac = pac.predict(X_test)"
      ],
      "execution_count": 71,
      "outputs": []
    },
    {
      "cell_type": "code",
      "metadata": {
        "colab": {
          "base_uri": "https://localhost:8080/"
        },
        "id": "F52u84794F9y",
        "outputId": "111c3112-2506-4e29-8f23-fbd45a854455"
      },
      "source": [
        "pac_acc = round(pac.score(X_test, y_test)*100,2)\n",
        "pac_acc"
      ],
      "execution_count": 72,
      "outputs": [
        {
          "output_type": "execute_result",
          "data": {
            "text/plain": [
              "78.62"
            ]
          },
          "metadata": {
            "tags": []
          },
          "execution_count": 72
        }
      ]
    },
    {
      "cell_type": "code",
      "metadata": {
        "colab": {
          "base_uri": "https://localhost:8080/"
        },
        "id": "Yv8WUahOIxbg",
        "outputId": "412e1489-c4f3-47d1-d21b-6f5b5a2f1f9c"
      },
      "source": [
        "# Build confusion matrix\n",
        "\n",
        "confusion_matrix(y_test,pred_pac, labels=['1','0'])"
      ],
      "execution_count": 73,
      "outputs": [
        {
          "output_type": "execute_result",
          "data": {
            "text/plain": [
              "array([[1700,  432],\n",
              "       [ 466, 1602]])"
            ]
          },
          "metadata": {
            "tags": []
          },
          "execution_count": 73
        }
      ]
    },
    {
      "cell_type": "code",
      "metadata": {
        "colab": {
          "base_uri": "https://localhost:8080/"
        },
        "id": "oFlC0gqM_m1p",
        "outputId": "51cef9a4-01f3-4df2-9687-a53f3c348b11"
      },
      "source": [
        "print(classification_report(y_test, pred_pac))"
      ],
      "execution_count": 74,
      "outputs": [
        {
          "output_type": "stream",
          "text": [
            "              precision    recall  f1-score   support\n",
            "\n",
            "           0       0.79      0.77      0.78      2068\n",
            "           1       0.78      0.80      0.79      2132\n",
            "\n",
            "    accuracy                           0.79      4200\n",
            "   macro avg       0.79      0.79      0.79      4200\n",
            "weighted avg       0.79      0.79      0.79      4200\n",
            "\n"
          ],
          "name": "stdout"
        }
      ]
    },
    {
      "cell_type": "markdown",
      "metadata": {
        "id": "UVXgdo6ZL9W5"
      },
      "source": [
        "**6. MultinomialNB**"
      ]
    },
    {
      "cell_type": "code",
      "metadata": {
        "id": "_-MxHCeFL-IX"
      },
      "source": [
        "from sklearn.naive_bayes import MultinomialNB"
      ],
      "execution_count": 75,
      "outputs": []
    },
    {
      "cell_type": "code",
      "metadata": {
        "colab": {
          "base_uri": "https://localhost:8080/"
        },
        "id": "w_lhBvspMT1R",
        "outputId": "ff7eba1a-e510-4d11-e7e2-a7ded7d3adb6"
      },
      "source": [
        "nbc = MultinomialNB()\n",
        "nbc.fit(X_train, y_train)"
      ],
      "execution_count": 76,
      "outputs": [
        {
          "output_type": "execute_result",
          "data": {
            "text/plain": [
              "MultinomialNB(alpha=1.0, class_prior=None, fit_prior=True)"
            ]
          },
          "metadata": {
            "tags": []
          },
          "execution_count": 76
        }
      ]
    },
    {
      "cell_type": "code",
      "metadata": {
        "id": "yv4I0H23Mgrq"
      },
      "source": [
        "pred_nbc = nbc.predict(X_test)"
      ],
      "execution_count": 77,
      "outputs": []
    },
    {
      "cell_type": "code",
      "metadata": {
        "colab": {
          "base_uri": "https://localhost:8080/"
        },
        "id": "Q41PnGd6MoeH",
        "outputId": "a50fbab5-2635-4a7c-8549-6bbb31520ad0"
      },
      "source": [
        "nbc_acc = round(nbc.score(X_test, y_test)*100,2)\n",
        "nbc_acc"
      ],
      "execution_count": 78,
      "outputs": [
        {
          "output_type": "execute_result",
          "data": {
            "text/plain": [
              "80.14"
            ]
          },
          "metadata": {
            "tags": []
          },
          "execution_count": 78
        }
      ]
    },
    {
      "cell_type": "code",
      "metadata": {
        "colab": {
          "base_uri": "https://localhost:8080/"
        },
        "id": "ZBYdnCBOIoGJ",
        "outputId": "36eee99f-dc26-46a9-d24e-6d39ed45d227"
      },
      "source": [
        "# Build confusion matrix\n",
        "\n",
        "confusion_matrix(y_test,pred_nbc, labels=['1','0'])"
      ],
      "execution_count": 79,
      "outputs": [
        {
          "output_type": "execute_result",
          "data": {
            "text/plain": [
              "array([[1658,  474],\n",
              "       [ 360, 1708]])"
            ]
          },
          "metadata": {
            "tags": []
          },
          "execution_count": 79
        }
      ]
    },
    {
      "cell_type": "code",
      "metadata": {
        "colab": {
          "base_uri": "https://localhost:8080/"
        },
        "id": "X33raaNsMtiF",
        "outputId": "b2ba8def-154e-4cf2-905c-f143be9b73ce"
      },
      "source": [
        "print(classification_report(y_test, pred_nbc))"
      ],
      "execution_count": 80,
      "outputs": [
        {
          "output_type": "stream",
          "text": [
            "              precision    recall  f1-score   support\n",
            "\n",
            "           0       0.78      0.83      0.80      2068\n",
            "           1       0.82      0.78      0.80      2132\n",
            "\n",
            "    accuracy                           0.80      4200\n",
            "   macro avg       0.80      0.80      0.80      4200\n",
            "weighted avg       0.80      0.80      0.80      4200\n",
            "\n"
          ],
          "name": "stdout"
        }
      ]
    },
    {
      "cell_type": "markdown",
      "metadata": {
        "id": "aWAQ3PieO7XI"
      },
      "source": [
        "**7. SVM**"
      ]
    },
    {
      "cell_type": "code",
      "metadata": {
        "id": "6jML-umWOSkw"
      },
      "source": [
        "from sklearn.svm import LinearSVC"
      ],
      "execution_count": 81,
      "outputs": []
    },
    {
      "cell_type": "code",
      "metadata": {
        "colab": {
          "base_uri": "https://localhost:8080/"
        },
        "id": "GPH9OfV2O-d9",
        "outputId": "6ef33316-ed34-4229-b0c3-2859f552a37a"
      },
      "source": [
        "svc = LinearSVC()\n",
        "svc.fit(X_train, y_train)"
      ],
      "execution_count": 82,
      "outputs": [
        {
          "output_type": "execute_result",
          "data": {
            "text/plain": [
              "LinearSVC(C=1.0, class_weight=None, dual=True, fit_intercept=True,\n",
              "          intercept_scaling=1, loss='squared_hinge', max_iter=1000,\n",
              "          multi_class='ovr', penalty='l2', random_state=None, tol=0.0001,\n",
              "          verbose=0)"
            ]
          },
          "metadata": {
            "tags": []
          },
          "execution_count": 82
        }
      ]
    },
    {
      "cell_type": "code",
      "metadata": {
        "id": "kk4VeCSDPaq7"
      },
      "source": [
        "pred_svc = svc.predict(X_test)"
      ],
      "execution_count": 83,
      "outputs": []
    },
    {
      "cell_type": "code",
      "metadata": {
        "colab": {
          "base_uri": "https://localhost:8080/"
        },
        "id": "A5B0h5laPfgI",
        "outputId": "45ee35d0-25d7-4efb-a530-c4e94076572d"
      },
      "source": [
        "\n",
        "svc_acc = round(svc.score(X_test, y_test)*100,2)\n",
        "svc_acc"
      ],
      "execution_count": 84,
      "outputs": [
        {
          "output_type": "execute_result",
          "data": {
            "text/plain": [
              "82.67"
            ]
          },
          "metadata": {
            "tags": []
          },
          "execution_count": 84
        }
      ]
    },
    {
      "cell_type": "code",
      "metadata": {
        "colab": {
          "base_uri": "https://localhost:8080/"
        },
        "id": "hxYant67uMlN",
        "outputId": "91e0ad5a-b237-4e76-f280-5ee28711b8c8"
      },
      "source": [
        "# Build confusion matrix\n",
        "\n",
        "confusion_matrix(y_test,pred_svc, labels=['1','0'])"
      ],
      "execution_count": 85,
      "outputs": [
        {
          "output_type": "execute_result",
          "data": {
            "text/plain": [
              "array([[1763,  369],\n",
              "       [ 359, 1709]])"
            ]
          },
          "metadata": {
            "tags": []
          },
          "execution_count": 85
        }
      ]
    },
    {
      "cell_type": "code",
      "metadata": {
        "colab": {
          "base_uri": "https://localhost:8080/"
        },
        "id": "zv3vPHTHPixM",
        "outputId": "35084985-1d9c-4072-bbff-793b0b859491"
      },
      "source": [
        "print(classification_report(y_test, pred_svc))"
      ],
      "execution_count": 86,
      "outputs": [
        {
          "output_type": "stream",
          "text": [
            "              precision    recall  f1-score   support\n",
            "\n",
            "           0       0.82      0.83      0.82      2068\n",
            "           1       0.83      0.83      0.83      2132\n",
            "\n",
            "    accuracy                           0.83      4200\n",
            "   macro avg       0.83      0.83      0.83      4200\n",
            "weighted avg       0.83      0.83      0.83      4200\n",
            "\n"
          ],
          "name": "stdout"
        }
      ]
    },
    {
      "cell_type": "code",
      "metadata": {
        "id": "z6QDYII1Iil3"
      },
      "source": [
        ""
      ],
      "execution_count": 86,
      "outputs": []
    },
    {
      "cell_type": "markdown",
      "metadata": {
        "id": "TS4h74VcjpZF"
      },
      "source": [
        "**Model Prediction Accuracy**"
      ]
    },
    {
      "cell_type": "code",
      "metadata": {
        "id": "wZ1afLgQQfMN"
      },
      "source": [
        "# Model and accuracy dataframe\n",
        "\n",
        "acc_df = pd.DataFrame({'Model':['LogisticRegression','DecisionTreeClassifier','GradientBoostingClassifier',\n",
        "                                'RandomForestClassifier','PassiveAggressiveClassifier','MultinomialNB','LinearSVC'],\n",
        "                       'Accuracy_Score':[LR_acc,DT_acc,GBC_acc,RFC_acc,pac_acc,nbc_acc,svc_acc]})"
      ],
      "execution_count": 87,
      "outputs": []
    },
    {
      "cell_type": "code",
      "metadata": {
        "colab": {
          "base_uri": "https://localhost:8080/",
          "height": 254
        },
        "id": "45C-KEfhbrLx",
        "outputId": "7dcc97ba-05ae-410a-d2b7-65fdab6abdb2"
      },
      "source": [
        "acc_df"
      ],
      "execution_count": 88,
      "outputs": [
        {
          "output_type": "execute_result",
          "data": {
            "text/html": [
              "<div>\n",
              "<style scoped>\n",
              "    .dataframe tbody tr th:only-of-type {\n",
              "        vertical-align: middle;\n",
              "    }\n",
              "\n",
              "    .dataframe tbody tr th {\n",
              "        vertical-align: top;\n",
              "    }\n",
              "\n",
              "    .dataframe thead th {\n",
              "        text-align: right;\n",
              "    }\n",
              "</style>\n",
              "<table border=\"1\" class=\"dataframe\">\n",
              "  <thead>\n",
              "    <tr style=\"text-align: right;\">\n",
              "      <th></th>\n",
              "      <th>Model</th>\n",
              "      <th>Accuracy_Score</th>\n",
              "    </tr>\n",
              "  </thead>\n",
              "  <tbody>\n",
              "    <tr>\n",
              "      <th>0</th>\n",
              "      <td>LogisticRegression</td>\n",
              "      <td>82.48</td>\n",
              "    </tr>\n",
              "    <tr>\n",
              "      <th>1</th>\n",
              "      <td>DecisionTreeClassifier</td>\n",
              "      <td>76.88</td>\n",
              "    </tr>\n",
              "    <tr>\n",
              "      <th>2</th>\n",
              "      <td>GradientBoostingClassifier</td>\n",
              "      <td>80.36</td>\n",
              "    </tr>\n",
              "    <tr>\n",
              "      <th>3</th>\n",
              "      <td>RandomForestClassifier</td>\n",
              "      <td>82.57</td>\n",
              "    </tr>\n",
              "    <tr>\n",
              "      <th>4</th>\n",
              "      <td>PassiveAggressiveClassifier</td>\n",
              "      <td>78.62</td>\n",
              "    </tr>\n",
              "    <tr>\n",
              "      <th>5</th>\n",
              "      <td>MultinomialNB</td>\n",
              "      <td>80.14</td>\n",
              "    </tr>\n",
              "    <tr>\n",
              "      <th>6</th>\n",
              "      <td>LinearSVC</td>\n",
              "      <td>82.67</td>\n",
              "    </tr>\n",
              "  </tbody>\n",
              "</table>\n",
              "</div>"
            ],
            "text/plain": [
              "                         Model  Accuracy_Score\n",
              "0           LogisticRegression           82.48\n",
              "1       DecisionTreeClassifier           76.88\n",
              "2   GradientBoostingClassifier           80.36\n",
              "3       RandomForestClassifier           82.57\n",
              "4  PassiveAggressiveClassifier           78.62\n",
              "5                MultinomialNB           80.14\n",
              "6                    LinearSVC           82.67"
            ]
          },
          "metadata": {
            "tags": []
          },
          "execution_count": 88
        }
      ]
    },
    {
      "cell_type": "code",
      "metadata": {
        "id": "eHKUJSYdyjpr"
      },
      "source": [
        "# Saving the dataset into a dataframe from Google Drive\n",
        "\n",
        "acc_df.to_csv(r'/content/gdrive/MyDrive/DATA 606 - Capstone Project/accuracy_score.csv', index = False)"
      ],
      "execution_count": 89,
      "outputs": []
    },
    {
      "cell_type": "code",
      "metadata": {
        "id": "mYTbesvYPUR2"
      },
      "source": [
        ""
      ],
      "execution_count": 89,
      "outputs": []
    },
    {
      "cell_type": "code",
      "metadata": {
        "id": "WRJ35-zErCGb"
      },
      "source": [
        "# Loading the dataset into a dataframe from Google Drive\n",
        "\n",
        "df_clean = pd.read_csv('/content/gdrive/MyDrive/DATA 606 - Capstone Project/amazon_reviews_clean.csv')"
      ],
      "execution_count": 90,
      "outputs": []
    },
    {
      "cell_type": "code",
      "metadata": {
        "colab": {
          "base_uri": "https://localhost:8080/",
          "height": 363
        },
        "id": "U5BIQz94rJzX",
        "outputId": "cdd2be4f-4e2d-4f7e-9237-b7095aab10e8"
      },
      "source": [
        "df_clean.head(5)"
      ],
      "execution_count": 91,
      "outputs": [
        {
          "output_type": "execute_result",
          "data": {
            "text/html": [
              "<div>\n",
              "<style scoped>\n",
              "    .dataframe tbody tr th:only-of-type {\n",
              "        vertical-align: middle;\n",
              "    }\n",
              "\n",
              "    .dataframe tbody tr th {\n",
              "        vertical-align: top;\n",
              "    }\n",
              "\n",
              "    .dataframe thead th {\n",
              "        text-align: right;\n",
              "    }\n",
              "</style>\n",
              "<table border=\"1\" class=\"dataframe\">\n",
              "  <thead>\n",
              "    <tr style=\"text-align: right;\">\n",
              "      <th></th>\n",
              "      <th>product_title</th>\n",
              "      <th>product_category</th>\n",
              "      <th>star_rating</th>\n",
              "      <th>verified_purchase</th>\n",
              "      <th>review_headline</th>\n",
              "      <th>review_body</th>\n",
              "      <th>review_date</th>\n",
              "      <th>CLEAN_REVIEW_TEXT</th>\n",
              "      <th>CLEAN_PRODUCT_TITLE</th>\n",
              "      <th>CLEAN_REVIEW_TITLE</th>\n",
              "    </tr>\n",
              "  </thead>\n",
              "  <tbody>\n",
              "    <tr>\n",
              "      <th>0</th>\n",
              "      <td>The Sandman Vol. 1: Preludes and Nocturnes</td>\n",
              "      <td>Books</td>\n",
              "      <td>4.0</td>\n",
              "      <td>N</td>\n",
              "      <td>ignore the review below</td>\n",
              "      <td>this is the first 8 issues of the series. it i...</td>\n",
              "      <td>1995-08-13</td>\n",
              "      <td>this is the first issues of the series it is t...</td>\n",
              "      <td>the sandman vol preludes and nocturnes</td>\n",
              "      <td>ignore the review below</td>\n",
              "    </tr>\n",
              "    <tr>\n",
              "      <th>1</th>\n",
              "      <td>The 22 Immutable Laws of Marketing</td>\n",
              "      <td>Books</td>\n",
              "      <td>4.0</td>\n",
              "      <td>N</td>\n",
              "      <td>awesome</td>\n",
              "      <td>I've always been partial to immutable laws. Th...</td>\n",
              "      <td>1995-08-17</td>\n",
              "      <td>i ve always been partial to immutable laws the...</td>\n",
              "      <td>the immutable laws of marketing</td>\n",
              "      <td>awesome</td>\n",
              "    </tr>\n",
              "    <tr>\n",
              "      <th>2</th>\n",
              "      <td>Contact</td>\n",
              "      <td>Books</td>\n",
              "      <td>5.0</td>\n",
              "      <td>N</td>\n",
              "      <td>Read the book. It's good.</td>\n",
              "      <td>This is a book about first contact with aliens...</td>\n",
              "      <td>1995-08-30</td>\n",
              "      <td>this is book about first contact with aliens w...</td>\n",
              "      <td>contact</td>\n",
              "      <td>read the book it good</td>\n",
              "    </tr>\n",
              "    <tr>\n",
              "      <th>3</th>\n",
              "      <td>Good Omens</td>\n",
              "      <td>Books</td>\n",
              "      <td>5.0</td>\n",
              "      <td>N</td>\n",
              "      <td>Funniest book ever written about the Anti-Christ</td>\n",
              "      <td>This is quite possibly *the* funniest book I h...</td>\n",
              "      <td>1995-09-11</td>\n",
              "      <td>this is quite possibly the funniest book have ...</td>\n",
              "      <td>good omens</td>\n",
              "      <td>funniest book ever written about the anti christ</td>\n",
              "    </tr>\n",
              "    <tr>\n",
              "      <th>4</th>\n",
              "      <td>A Confederacy of Dunces</td>\n",
              "      <td>Books</td>\n",
              "      <td>5.0</td>\n",
              "      <td>N</td>\n",
              "      <td>A winner that didn't last. Only a mothers love...</td>\n",
              "      <td>The story behind the book is almost better tha...</td>\n",
              "      <td>1995-10-17</td>\n",
              "      <td>the story behind the book is almost better tha...</td>\n",
              "      <td>a confederacy of dunces</td>\n",
              "      <td>a winner that didn last only mothers love rema...</td>\n",
              "    </tr>\n",
              "  </tbody>\n",
              "</table>\n",
              "</div>"
            ],
            "text/plain": [
              "                                product_title  ...                                 CLEAN_REVIEW_TITLE\n",
              "0  The Sandman Vol. 1: Preludes and Nocturnes  ...                            ignore the review below\n",
              "1          The 22 Immutable Laws of Marketing  ...                                            awesome\n",
              "2                                     Contact  ...                             read the book it good \n",
              "3                                  Good Omens  ...   funniest book ever written about the anti christ\n",
              "4                     A Confederacy of Dunces  ...  a winner that didn last only mothers love rema...\n",
              "\n",
              "[5 rows x 10 columns]"
            ]
          },
          "metadata": {
            "tags": []
          },
          "execution_count": 91
        }
      ]
    },
    {
      "cell_type": "code",
      "metadata": {
        "colab": {
          "base_uri": "https://localhost:8080/"
        },
        "id": "oPobfIqwP7sy",
        "outputId": "13bc3e54-a270-4cbf-99c5-0a98e82a0fd2"
      },
      "source": [
        "df_clean.info()"
      ],
      "execution_count": 93,
      "outputs": [
        {
          "output_type": "stream",
          "text": [
            "<class 'pandas.core.frame.DataFrame'>\n",
            "RangeIndex: 6898566 entries, 0 to 6898565\n",
            "Data columns (total 10 columns):\n",
            " #   Column               Dtype  \n",
            "---  ------               -----  \n",
            " 0   product_title        object \n",
            " 1   product_category     object \n",
            " 2   star_rating          float64\n",
            " 3   verified_purchase    object \n",
            " 4   review_headline      object \n",
            " 5   review_body          object \n",
            " 6   review_date          object \n",
            " 7   CLEAN_REVIEW_TEXT    object \n",
            " 8   CLEAN_PRODUCT_TITLE  object \n",
            " 9   CLEAN_REVIEW_TITLE   object \n",
            "dtypes: float64(1), object(9)\n",
            "memory usage: 526.3+ MB\n"
          ],
          "name": "stdout"
        }
      ]
    },
    {
      "cell_type": "code",
      "metadata": {
        "id": "wAzcMyjKQNAp"
      },
      "source": [
        "# Converting the datatype of star_rating from float to int\n",
        "\n",
        "df_clean.star_rating = df_clean.star_rating.astype(int)"
      ],
      "execution_count": 94,
      "outputs": []
    },
    {
      "cell_type": "code",
      "metadata": {
        "colab": {
          "base_uri": "https://localhost:8080/"
        },
        "id": "ef4AxZE2QUDh",
        "outputId": "323baba4-1047-42d3-d699-127afcad3625"
      },
      "source": [
        "df_clean.info()"
      ],
      "execution_count": 95,
      "outputs": [
        {
          "output_type": "stream",
          "text": [
            "<class 'pandas.core.frame.DataFrame'>\n",
            "RangeIndex: 6898566 entries, 0 to 6898565\n",
            "Data columns (total 10 columns):\n",
            " #   Column               Dtype \n",
            "---  ------               ----- \n",
            " 0   product_title        object\n",
            " 1   product_category     object\n",
            " 2   star_rating          int64 \n",
            " 3   verified_purchase    object\n",
            " 4   review_headline      object\n",
            " 5   review_body          object\n",
            " 6   review_date          object\n",
            " 7   CLEAN_REVIEW_TEXT    object\n",
            " 8   CLEAN_PRODUCT_TITLE  object\n",
            " 9   CLEAN_REVIEW_TITLE   object\n",
            "dtypes: int64(1), object(9)\n",
            "memory usage: 526.3+ MB\n"
          ],
          "name": "stdout"
        }
      ]
    },
    {
      "cell_type": "code",
      "metadata": {
        "colab": {
          "base_uri": "https://localhost:8080/",
          "height": 363
        },
        "id": "EUcMAZSgQYpb",
        "outputId": "9e625f6a-d8bf-4bf3-b9c6-f213621f9571"
      },
      "source": [
        "df_clean.head(5)"
      ],
      "execution_count": 96,
      "outputs": [
        {
          "output_type": "execute_result",
          "data": {
            "text/html": [
              "<div>\n",
              "<style scoped>\n",
              "    .dataframe tbody tr th:only-of-type {\n",
              "        vertical-align: middle;\n",
              "    }\n",
              "\n",
              "    .dataframe tbody tr th {\n",
              "        vertical-align: top;\n",
              "    }\n",
              "\n",
              "    .dataframe thead th {\n",
              "        text-align: right;\n",
              "    }\n",
              "</style>\n",
              "<table border=\"1\" class=\"dataframe\">\n",
              "  <thead>\n",
              "    <tr style=\"text-align: right;\">\n",
              "      <th></th>\n",
              "      <th>product_title</th>\n",
              "      <th>product_category</th>\n",
              "      <th>star_rating</th>\n",
              "      <th>verified_purchase</th>\n",
              "      <th>review_headline</th>\n",
              "      <th>review_body</th>\n",
              "      <th>review_date</th>\n",
              "      <th>CLEAN_REVIEW_TEXT</th>\n",
              "      <th>CLEAN_PRODUCT_TITLE</th>\n",
              "      <th>CLEAN_REVIEW_TITLE</th>\n",
              "    </tr>\n",
              "  </thead>\n",
              "  <tbody>\n",
              "    <tr>\n",
              "      <th>0</th>\n",
              "      <td>The Sandman Vol. 1: Preludes and Nocturnes</td>\n",
              "      <td>Books</td>\n",
              "      <td>4</td>\n",
              "      <td>N</td>\n",
              "      <td>ignore the review below</td>\n",
              "      <td>this is the first 8 issues of the series. it i...</td>\n",
              "      <td>1995-08-13</td>\n",
              "      <td>this is the first issues of the series it is t...</td>\n",
              "      <td>the sandman vol preludes and nocturnes</td>\n",
              "      <td>ignore the review below</td>\n",
              "    </tr>\n",
              "    <tr>\n",
              "      <th>1</th>\n",
              "      <td>The 22 Immutable Laws of Marketing</td>\n",
              "      <td>Books</td>\n",
              "      <td>4</td>\n",
              "      <td>N</td>\n",
              "      <td>awesome</td>\n",
              "      <td>I've always been partial to immutable laws. Th...</td>\n",
              "      <td>1995-08-17</td>\n",
              "      <td>i ve always been partial to immutable laws the...</td>\n",
              "      <td>the immutable laws of marketing</td>\n",
              "      <td>awesome</td>\n",
              "    </tr>\n",
              "    <tr>\n",
              "      <th>2</th>\n",
              "      <td>Contact</td>\n",
              "      <td>Books</td>\n",
              "      <td>5</td>\n",
              "      <td>N</td>\n",
              "      <td>Read the book. It's good.</td>\n",
              "      <td>This is a book about first contact with aliens...</td>\n",
              "      <td>1995-08-30</td>\n",
              "      <td>this is book about first contact with aliens w...</td>\n",
              "      <td>contact</td>\n",
              "      <td>read the book it good</td>\n",
              "    </tr>\n",
              "    <tr>\n",
              "      <th>3</th>\n",
              "      <td>Good Omens</td>\n",
              "      <td>Books</td>\n",
              "      <td>5</td>\n",
              "      <td>N</td>\n",
              "      <td>Funniest book ever written about the Anti-Christ</td>\n",
              "      <td>This is quite possibly *the* funniest book I h...</td>\n",
              "      <td>1995-09-11</td>\n",
              "      <td>this is quite possibly the funniest book have ...</td>\n",
              "      <td>good omens</td>\n",
              "      <td>funniest book ever written about the anti christ</td>\n",
              "    </tr>\n",
              "    <tr>\n",
              "      <th>4</th>\n",
              "      <td>A Confederacy of Dunces</td>\n",
              "      <td>Books</td>\n",
              "      <td>5</td>\n",
              "      <td>N</td>\n",
              "      <td>A winner that didn't last. Only a mothers love...</td>\n",
              "      <td>The story behind the book is almost better tha...</td>\n",
              "      <td>1995-10-17</td>\n",
              "      <td>the story behind the book is almost better tha...</td>\n",
              "      <td>a confederacy of dunces</td>\n",
              "      <td>a winner that didn last only mothers love rema...</td>\n",
              "    </tr>\n",
              "  </tbody>\n",
              "</table>\n",
              "</div>"
            ],
            "text/plain": [
              "                                product_title  ...                                 CLEAN_REVIEW_TITLE\n",
              "0  The Sandman Vol. 1: Preludes and Nocturnes  ...                            ignore the review below\n",
              "1          The 22 Immutable Laws of Marketing  ...                                            awesome\n",
              "2                                     Contact  ...                             read the book it good \n",
              "3                                  Good Omens  ...   funniest book ever written about the anti christ\n",
              "4                     A Confederacy of Dunces  ...  a winner that didn last only mothers love rema...\n",
              "\n",
              "[5 rows x 10 columns]"
            ]
          },
          "metadata": {
            "tags": []
          },
          "execution_count": 96
        }
      ]
    },
    {
      "cell_type": "code",
      "metadata": {
        "colab": {
          "base_uri": "https://localhost:8080/"
        },
        "id": "jVfwlswvwrRU",
        "outputId": "860b7ea9-bb90-43dd-c6c0-6c18c4838133"
      },
      "source": [
        "df_clean.isna().sum()"
      ],
      "execution_count": 97,
      "outputs": [
        {
          "output_type": "execute_result",
          "data": {
            "text/plain": [
              "product_title          0\n",
              "product_category       0\n",
              "star_rating            0\n",
              "verified_purchase      0\n",
              "review_headline        0\n",
              "review_body            0\n",
              "review_date            0\n",
              "CLEAN_REVIEW_TEXT      0\n",
              "CLEAN_PRODUCT_TITLE    0\n",
              "CLEAN_REVIEW_TITLE     0\n",
              "dtype: int64"
            ]
          },
          "metadata": {
            "tags": []
          },
          "execution_count": 97
        }
      ]
    },
    {
      "cell_type": "code",
      "metadata": {
        "colab": {
          "base_uri": "https://localhost:8080/"
        },
        "id": "AEtC--OX0F7Q",
        "outputId": "6404b640-30f3-4a00-aa2d-d80a38a3b0f2"
      },
      "source": [
        "df_clean.shape"
      ],
      "execution_count": 98,
      "outputs": [
        {
          "output_type": "execute_result",
          "data": {
            "text/plain": [
              "(6898566, 10)"
            ]
          },
          "metadata": {
            "tags": []
          },
          "execution_count": 98
        }
      ]
    },
    {
      "cell_type": "markdown",
      "metadata": {
        "id": "lvve7uyqkNhs"
      },
      "source": [
        "**There are more Product Categories on the Unlabeled Amazon review dataset compared when compared to the Labeled Amazon review dataset. I have used Labeled Amazon review dataset for training, so I have dropped the Product Categories from Unlabeled Amazon review dataset which are not present in Labeled Amazon review dataset.**"
      ]
    },
    {
      "cell_type": "code",
      "metadata": {
        "colab": {
          "base_uri": "https://localhost:8080/"
        },
        "id": "vdTkNlrBB7hg",
        "outputId": "17187914-be30-4843-cf90-6565e1b8fd18"
      },
      "source": [
        "df.PRODUCT_CATEGORY.unique()"
      ],
      "execution_count": 99,
      "outputs": [
        {
          "output_type": "execute_result",
          "data": {
            "text/plain": [
              "array(['PC', 'Wireless', 'Baby', 'Office Products', 'Beauty',\n",
              "       'Health & Personal Care', 'Toys', 'Kitchen', 'Furniture',\n",
              "       'Electronics', 'Camera', 'Sports', 'Home', 'Jewelry', 'Books',\n",
              "       'Grocery', 'Video DVD', 'Tools', 'Home Improvement', 'Shoes',\n",
              "       'Outdoors', 'Luggage', 'Video Games', 'Apparel', 'Lawn and Garden',\n",
              "       'Pet Products', 'Home Entertainment', 'Musical Instruments',\n",
              "       'Watches', 'Automotive'], dtype=object)"
            ]
          },
          "metadata": {
            "tags": []
          },
          "execution_count": 99
        }
      ]
    },
    {
      "cell_type": "code",
      "metadata": {
        "colab": {
          "base_uri": "https://localhost:8080/"
        },
        "id": "MRSg1C-QAFrn",
        "outputId": "5ab750ce-eaed-4982-c031-76c973002ee4"
      },
      "source": [
        "df_clean.product_category.unique()"
      ],
      "execution_count": 100,
      "outputs": [
        {
          "output_type": "execute_result",
          "data": {
            "text/plain": [
              "array(['Books', 'Music', 'Video', 'Video DVD', 'Toys', 'Tools',\n",
              "       'Office Products', 'Video Games', 'Software',\n",
              "       'Digital_Music_Purchase', 'Home Entertainment', 'Electronics',\n",
              "       'Digital_Ebook_Purchase', 'Digital_Video_Download', 'Kitchen',\n",
              "       'Camera', 'Outdoors', 'Musical Instruments', 'Sports', 'Watches',\n",
              "       'PC', 'Home', 'Wireless', 'Beauty', 'Baby', 'Home Improvement',\n",
              "       'Apparel', 'Shoes', 'Lawn and Garden', 'Mobile_Electronics',\n",
              "       'Health & Personal Care', 'Grocery', 'Luggage',\n",
              "       'Personal_Care_Appliances', 'Automotive', 'Mobile_Apps',\n",
              "       'Furniture', 'Pet Products'], dtype=object)"
            ]
          },
          "metadata": {
            "tags": []
          },
          "execution_count": 100
        }
      ]
    },
    {
      "cell_type": "code",
      "metadata": {
        "id": "rP0Eakl7HOmX"
      },
      "source": [
        ""
      ],
      "execution_count": 100,
      "outputs": []
    },
    {
      "cell_type": "code",
      "metadata": {
        "id": "kR7JwyJKFbgA"
      },
      "source": [
        "df_clean = df_clean[df_clean['product_category'].isin(df.PRODUCT_CATEGORY.unique())]"
      ],
      "execution_count": 101,
      "outputs": []
    },
    {
      "cell_type": "code",
      "metadata": {
        "id": "EUxOWURhGS3P",
        "colab": {
          "base_uri": "https://localhost:8080/"
        },
        "outputId": "bff03e6c-ec11-4414-de11-38c4d9452a9b"
      },
      "source": [
        "df_clean = df_clean.reset_index(drop=True)\n",
        "df_clean.shape"
      ],
      "execution_count": 102,
      "outputs": [
        {
          "output_type": "execute_result",
          "data": {
            "text/plain": [
              "(2208111, 10)"
            ]
          },
          "metadata": {
            "tags": []
          },
          "execution_count": 102
        }
      ]
    },
    {
      "cell_type": "markdown",
      "metadata": {
        "id": "f8kVaqRQlbvm"
      },
      "source": [
        "**I would be predicting if the reviews are biased or unbiased in 2208111 Amazon reviews.**"
      ]
    },
    {
      "cell_type": "code",
      "metadata": {
        "colab": {
          "base_uri": "https://localhost:8080/"
        },
        "id": "MKdZcrFnBgZ3",
        "outputId": "4b53f138-f21c-4373-9cad-28442e94c0c7"
      },
      "source": [
        "df_clean.product_category.unique()"
      ],
      "execution_count": 103,
      "outputs": [
        {
          "output_type": "execute_result",
          "data": {
            "text/plain": [
              "array(['Books', 'Video DVD', 'Toys', 'Tools', 'Office Products',\n",
              "       'Video Games', 'Home Entertainment', 'Electronics', 'Kitchen',\n",
              "       'Camera', 'Outdoors', 'Musical Instruments', 'Sports', 'Watches',\n",
              "       'PC', 'Home', 'Wireless', 'Beauty', 'Baby', 'Home Improvement',\n",
              "       'Apparel', 'Shoes', 'Lawn and Garden', 'Health & Personal Care',\n",
              "       'Grocery', 'Luggage', 'Automotive', 'Furniture', 'Pet Products'],\n",
              "      dtype=object)"
            ]
          },
          "metadata": {
            "tags": []
          },
          "execution_count": 103
        }
      ]
    },
    {
      "cell_type": "code",
      "metadata": {
        "id": "LfRdBt00IQJK"
      },
      "source": [
        "# Saving the dataset into a dataframe from Google Drive\n",
        "\n",
        "df_clean.to_csv(r'/content/gdrive/MyDrive/DATA 606 - Capstone Project/amazon_reviews_clean_final.csv', index = False)"
      ],
      "execution_count": 104,
      "outputs": []
    },
    {
      "cell_type": "markdown",
      "metadata": {
        "id": "d5wlwYMFlrLO"
      },
      "source": [
        "**Prepping the data for prediction.**"
      ]
    },
    {
      "cell_type": "code",
      "metadata": {
        "id": "awpLHcORraF7"
      },
      "source": [
        "X_new_text = df_clean['CLEAN_REVIEW_TEXT'] + df_clean['CLEAN_PRODUCT_TITLE'] + df_clean['CLEAN_REVIEW_TITLE']\n",
        "X_new_rating = np.array(df_clean['star_rating'])\n",
        "X_new_verified = np.array(df_clean['verified_purchase'])\n",
        "X_new_pcat = np.array(df_clean['product_category'])"
      ],
      "execution_count": 105,
      "outputs": []
    },
    {
      "cell_type": "code",
      "metadata": {
        "id": "n03dwBHfEvRh"
      },
      "source": [
        "X_new_text_tfidf = vectorization.transform(X_new_text)\n",
        "\n",
        "X_new_rating_ohe = ohe_rating.transform(X_new_rating.reshape((-1,1)))\n",
        "X_new_verified_ohe = ohe_verified.transform(X_new_verified.reshape((-1,1)))\n",
        "X_new_pcat_ohe = ohe_pcat.transform(X_new_pcat.reshape((-1,1)))"
      ],
      "execution_count": 106,
      "outputs": []
    },
    {
      "cell_type": "code",
      "metadata": {
        "id": "oMsHn7rjEKR9"
      },
      "source": [
        "X_new = hstack((X_new_verified_ohe, X_new_rating_ohe, X_new_pcat_ohe, X_new_text_tfidf))"
      ],
      "execution_count": 107,
      "outputs": []
    },
    {
      "cell_type": "code",
      "metadata": {
        "id": "7ozj2DBQDHpF"
      },
      "source": [
        ""
      ],
      "execution_count": 107,
      "outputs": []
    },
    {
      "cell_type": "markdown",
      "metadata": {
        "id": "6kM5VHW4l4DA"
      },
      "source": [
        "**Model prediction**"
      ]
    },
    {
      "cell_type": "markdown",
      "metadata": {
        "id": "Guo9LHmtDH_T"
      },
      "source": [
        "**1. Logistic Regression**"
      ]
    },
    {
      "cell_type": "code",
      "metadata": {
        "id": "ZbdPHy37DH_X"
      },
      "source": [
        "pred_lr=LR.predict(X_new)"
      ],
      "execution_count": 108,
      "outputs": []
    },
    {
      "cell_type": "code",
      "metadata": {
        "id": "gekkjM7DDU75"
      },
      "source": [
        "df_clean['Logistic_Regression_Pred'] = pred_lr"
      ],
      "execution_count": 109,
      "outputs": []
    },
    {
      "cell_type": "markdown",
      "metadata": {
        "id": "6M9Ai3MYM494"
      },
      "source": [
        "**2. Decision Tree Classification**"
      ]
    },
    {
      "cell_type": "code",
      "metadata": {
        "id": "elvTJUVhM496"
      },
      "source": [
        "pred_dt = DT.predict(X_new)"
      ],
      "execution_count": 110,
      "outputs": []
    },
    {
      "cell_type": "code",
      "metadata": {
        "id": "IshQcXVlNDE5"
      },
      "source": [
        "df_clean['Decision_Tree_Classification_Pred'] = pred_dt"
      ],
      "execution_count": 111,
      "outputs": []
    },
    {
      "cell_type": "markdown",
      "metadata": {
        "id": "ws400KEuM497"
      },
      "source": [
        "**3. Gradient Boosting Classifier**"
      ]
    },
    {
      "cell_type": "code",
      "metadata": {
        "id": "YD39NXK4M498"
      },
      "source": [
        "pred_gbc = GBC.predict(X_new)"
      ],
      "execution_count": 112,
      "outputs": []
    },
    {
      "cell_type": "code",
      "metadata": {
        "id": "gp6y_SCiNEJk"
      },
      "source": [
        "df_clean['Gradient_Boosting_Classifier_Pred'] = pred_gbc"
      ],
      "execution_count": 113,
      "outputs": []
    },
    {
      "cell_type": "markdown",
      "metadata": {
        "id": "iyPdMXmjM499"
      },
      "source": [
        "**4. Random Forest Classifier**"
      ]
    },
    {
      "cell_type": "code",
      "metadata": {
        "id": "mKUP94GvM49-"
      },
      "source": [
        "pred_rfc = RFC.predict(X_new)"
      ],
      "execution_count": 114,
      "outputs": []
    },
    {
      "cell_type": "code",
      "metadata": {
        "id": "t-D4awoZNFKP"
      },
      "source": [
        "df_clean['Random_Forest_Classifier_Pred'] = pred_rfc"
      ],
      "execution_count": 115,
      "outputs": []
    },
    {
      "cell_type": "markdown",
      "metadata": {
        "id": "9Z3MbNzpM49_"
      },
      "source": [
        "**5. PassiveAggressiveClassifier**"
      ]
    },
    {
      "cell_type": "code",
      "metadata": {
        "id": "KaEzHSfpM49_"
      },
      "source": [
        "pred_pac = pac.predict(X_new)"
      ],
      "execution_count": 116,
      "outputs": []
    },
    {
      "cell_type": "code",
      "metadata": {
        "id": "EMZ5fcKmNGB0"
      },
      "source": [
        "df_clean['PassiveAggressiveClassifier_Pred'] = pred_pac"
      ],
      "execution_count": 117,
      "outputs": []
    },
    {
      "cell_type": "markdown",
      "metadata": {
        "id": "9EvTOZjvM4-A"
      },
      "source": [
        "**6. MultinomialNB**"
      ]
    },
    {
      "cell_type": "code",
      "metadata": {
        "id": "cepVoJ0NM4-B"
      },
      "source": [
        "pred_nbc = nbc.predict(X_new)"
      ],
      "execution_count": 118,
      "outputs": []
    },
    {
      "cell_type": "code",
      "metadata": {
        "id": "sOxHMinLNHBL"
      },
      "source": [
        "df_clean['MultinomialNB_Pred'] = pred_nbc"
      ],
      "execution_count": 119,
      "outputs": []
    },
    {
      "cell_type": "markdown",
      "metadata": {
        "id": "vWX31If1M4-B"
      },
      "source": [
        "**7. SVM**"
      ]
    },
    {
      "cell_type": "code",
      "metadata": {
        "id": "9pJbT0AaM4-C"
      },
      "source": [
        "pred_svc = svc.predict(X_new)"
      ],
      "execution_count": 120,
      "outputs": []
    },
    {
      "cell_type": "code",
      "metadata": {
        "id": "mqBC4sJSNH2L"
      },
      "source": [
        "df_clean['SVM_Pred'] = pred_svc"
      ],
      "execution_count": 121,
      "outputs": []
    },
    {
      "cell_type": "code",
      "metadata": {
        "id": "9x0tuqLdOgaR"
      },
      "source": [
        ""
      ],
      "execution_count": 121,
      "outputs": []
    },
    {
      "cell_type": "markdown",
      "metadata": {
        "id": "0QpKJ7iVmRJz"
      },
      "source": [
        "**The dataset is updated with prediction from all the models.**\n",
        "\n",
        "**0 -> Biased review**\n",
        "\n",
        "**1 -> Unbiased review**"
      ]
    },
    {
      "cell_type": "code",
      "metadata": {
        "colab": {
          "base_uri": "https://localhost:8080/",
          "height": 959
        },
        "id": "7JYAnOf2Okos",
        "outputId": "6cb3a97f-f70d-49f0-830b-237a6e145d52"
      },
      "source": [
        "df_clean"
      ],
      "execution_count": 122,
      "outputs": [
        {
          "output_type": "execute_result",
          "data": {
            "text/html": [
              "<div>\n",
              "<style scoped>\n",
              "    .dataframe tbody tr th:only-of-type {\n",
              "        vertical-align: middle;\n",
              "    }\n",
              "\n",
              "    .dataframe tbody tr th {\n",
              "        vertical-align: top;\n",
              "    }\n",
              "\n",
              "    .dataframe thead th {\n",
              "        text-align: right;\n",
              "    }\n",
              "</style>\n",
              "<table border=\"1\" class=\"dataframe\">\n",
              "  <thead>\n",
              "    <tr style=\"text-align: right;\">\n",
              "      <th></th>\n",
              "      <th>product_title</th>\n",
              "      <th>product_category</th>\n",
              "      <th>star_rating</th>\n",
              "      <th>verified_purchase</th>\n",
              "      <th>review_headline</th>\n",
              "      <th>review_body</th>\n",
              "      <th>review_date</th>\n",
              "      <th>CLEAN_REVIEW_TEXT</th>\n",
              "      <th>CLEAN_PRODUCT_TITLE</th>\n",
              "      <th>CLEAN_REVIEW_TITLE</th>\n",
              "      <th>Logistic_Regression_Pred</th>\n",
              "      <th>Decision_Tree_Classification_Pred</th>\n",
              "      <th>Gradient_Boosting_Classifier_Pred</th>\n",
              "      <th>Random_Forest_Classifier_Pred</th>\n",
              "      <th>PassiveAggressiveClassifier_Pred</th>\n",
              "      <th>MultinomialNB_Pred</th>\n",
              "      <th>SVM_Pred</th>\n",
              "    </tr>\n",
              "  </thead>\n",
              "  <tbody>\n",
              "    <tr>\n",
              "      <th>0</th>\n",
              "      <td>The Sandman Vol. 1: Preludes and Nocturnes</td>\n",
              "      <td>Books</td>\n",
              "      <td>4</td>\n",
              "      <td>N</td>\n",
              "      <td>ignore the review below</td>\n",
              "      <td>this is the first 8 issues of the series. it i...</td>\n",
              "      <td>1995-08-13</td>\n",
              "      <td>this is the first issues of the series it is t...</td>\n",
              "      <td>the sandman vol preludes and nocturnes</td>\n",
              "      <td>ignore the review below</td>\n",
              "      <td>1</td>\n",
              "      <td>1</td>\n",
              "      <td>1</td>\n",
              "      <td>1</td>\n",
              "      <td>1</td>\n",
              "      <td>1</td>\n",
              "      <td>1</td>\n",
              "    </tr>\n",
              "    <tr>\n",
              "      <th>1</th>\n",
              "      <td>The 22 Immutable Laws of Marketing</td>\n",
              "      <td>Books</td>\n",
              "      <td>4</td>\n",
              "      <td>N</td>\n",
              "      <td>awesome</td>\n",
              "      <td>I've always been partial to immutable laws. Th...</td>\n",
              "      <td>1995-08-17</td>\n",
              "      <td>i ve always been partial to immutable laws the...</td>\n",
              "      <td>the immutable laws of marketing</td>\n",
              "      <td>awesome</td>\n",
              "      <td>1</td>\n",
              "      <td>1</td>\n",
              "      <td>1</td>\n",
              "      <td>1</td>\n",
              "      <td>1</td>\n",
              "      <td>1</td>\n",
              "      <td>1</td>\n",
              "    </tr>\n",
              "    <tr>\n",
              "      <th>2</th>\n",
              "      <td>Contact</td>\n",
              "      <td>Books</td>\n",
              "      <td>5</td>\n",
              "      <td>N</td>\n",
              "      <td>Read the book. It's good.</td>\n",
              "      <td>This is a book about first contact with aliens...</td>\n",
              "      <td>1995-08-30</td>\n",
              "      <td>this is book about first contact with aliens w...</td>\n",
              "      <td>contact</td>\n",
              "      <td>read the book it good</td>\n",
              "      <td>1</td>\n",
              "      <td>1</td>\n",
              "      <td>1</td>\n",
              "      <td>1</td>\n",
              "      <td>1</td>\n",
              "      <td>1</td>\n",
              "      <td>1</td>\n",
              "    </tr>\n",
              "    <tr>\n",
              "      <th>3</th>\n",
              "      <td>Good Omens</td>\n",
              "      <td>Books</td>\n",
              "      <td>5</td>\n",
              "      <td>N</td>\n",
              "      <td>Funniest book ever written about the Anti-Christ</td>\n",
              "      <td>This is quite possibly *the* funniest book I h...</td>\n",
              "      <td>1995-09-11</td>\n",
              "      <td>this is quite possibly the funniest book have ...</td>\n",
              "      <td>good omens</td>\n",
              "      <td>funniest book ever written about the anti christ</td>\n",
              "      <td>1</td>\n",
              "      <td>1</td>\n",
              "      <td>1</td>\n",
              "      <td>1</td>\n",
              "      <td>1</td>\n",
              "      <td>1</td>\n",
              "      <td>1</td>\n",
              "    </tr>\n",
              "    <tr>\n",
              "      <th>4</th>\n",
              "      <td>A Confederacy of Dunces</td>\n",
              "      <td>Books</td>\n",
              "      <td>5</td>\n",
              "      <td>N</td>\n",
              "      <td>A winner that didn't last. Only a mothers love...</td>\n",
              "      <td>The story behind the book is almost better tha...</td>\n",
              "      <td>1995-10-17</td>\n",
              "      <td>the story behind the book is almost better tha...</td>\n",
              "      <td>a confederacy of dunces</td>\n",
              "      <td>a winner that didn last only mothers love rema...</td>\n",
              "      <td>1</td>\n",
              "      <td>1</td>\n",
              "      <td>1</td>\n",
              "      <td>1</td>\n",
              "      <td>0</td>\n",
              "      <td>1</td>\n",
              "      <td>1</td>\n",
              "    </tr>\n",
              "    <tr>\n",
              "      <th>...</th>\n",
              "      <td>...</td>\n",
              "      <td>...</td>\n",
              "      <td>...</td>\n",
              "      <td>...</td>\n",
              "      <td>...</td>\n",
              "      <td>...</td>\n",
              "      <td>...</td>\n",
              "      <td>...</td>\n",
              "      <td>...</td>\n",
              "      <td>...</td>\n",
              "      <td>...</td>\n",
              "      <td>...</td>\n",
              "      <td>...</td>\n",
              "      <td>...</td>\n",
              "      <td>...</td>\n",
              "      <td>...</td>\n",
              "      <td>...</td>\n",
              "    </tr>\n",
              "    <tr>\n",
              "      <th>2208106</th>\n",
              "      <td>AmazonBasics Backpack for SLR/DSLR Cameras and...</td>\n",
              "      <td>Camera</td>\n",
              "      <td>5</td>\n",
              "      <td>Y</td>\n",
              "      <td>Five Stars</td>\n",
              "      <td>Excellent</td>\n",
              "      <td>2015-08-31</td>\n",
              "      <td>excellent</td>\n",
              "      <td>amazonbasics backpack for slr dslr cameras and...</td>\n",
              "      <td>five stars</td>\n",
              "      <td>0</td>\n",
              "      <td>0</td>\n",
              "      <td>0</td>\n",
              "      <td>0</td>\n",
              "      <td>0</td>\n",
              "      <td>0</td>\n",
              "      <td>0</td>\n",
              "    </tr>\n",
              "    <tr>\n",
              "      <th>2208107</th>\n",
              "      <td>Mad Max: Fury Road [Blu-ray]</td>\n",
              "      <td>Video DVD</td>\n",
              "      <td>5</td>\n",
              "      <td>N</td>\n",
              "      <td>Best action film in years</td>\n",
              "      <td>Incredible movie. The action is otherworldly, ...</td>\n",
              "      <td>2015-08-31</td>\n",
              "      <td>incredible movie the action is otherworldly an...</td>\n",
              "      <td>mad max fury road blu ray</td>\n",
              "      <td>best action film in years</td>\n",
              "      <td>1</td>\n",
              "      <td>1</td>\n",
              "      <td>1</td>\n",
              "      <td>1</td>\n",
              "      <td>1</td>\n",
              "      <td>1</td>\n",
              "      <td>1</td>\n",
              "    </tr>\n",
              "    <tr>\n",
              "      <th>2208108</th>\n",
              "      <td>Criminal Minds: Season 8</td>\n",
              "      <td>Video DVD</td>\n",
              "      <td>4</td>\n",
              "      <td>N</td>\n",
              "      <td>review</td>\n",
              "      <td>Adding Blake was the worst casting mistake the...</td>\n",
              "      <td>2015-08-31</td>\n",
              "      <td>adding blake was the worst casting mistake the...</td>\n",
              "      <td>criminal minds season</td>\n",
              "      <td>review</td>\n",
              "      <td>1</td>\n",
              "      <td>1</td>\n",
              "      <td>1</td>\n",
              "      <td>1</td>\n",
              "      <td>0</td>\n",
              "      <td>1</td>\n",
              "      <td>0</td>\n",
              "    </tr>\n",
              "    <tr>\n",
              "      <th>2208109</th>\n",
              "      <td>Breaking Bad: The Complete Series</td>\n",
              "      <td>Video DVD</td>\n",
              "      <td>5</td>\n",
              "      <td>Y</td>\n",
              "      <td>Five Stars</td>\n",
              "      <td>excellent seriess, service quick, on disc 3, i...</td>\n",
              "      <td>2015-08-31</td>\n",
              "      <td>excellent seriess service quick on disc it sti...</td>\n",
              "      <td>breaking bad the complete series</td>\n",
              "      <td>five stars</td>\n",
              "      <td>0</td>\n",
              "      <td>0</td>\n",
              "      <td>0</td>\n",
              "      <td>0</td>\n",
              "      <td>1</td>\n",
              "      <td>0</td>\n",
              "      <td>0</td>\n",
              "    </tr>\n",
              "    <tr>\n",
              "      <th>2208110</th>\n",
              "      <td>To Kill a Mockingbird [Blu-ray]</td>\n",
              "      <td>Video DVD</td>\n",
              "      <td>5</td>\n",
              "      <td>Y</td>\n",
              "      <td>... or dvd to Kill a Mockingbird is still the ...</td>\n",
              "      <td>Blu-ray or dvd to Kill a Mockingbird is still ...</td>\n",
              "      <td>2015-08-31</td>\n",
              "      <td>blu ray or dvd to kill mockingbird is still th...</td>\n",
              "      <td>to kill mockingbird blu ray</td>\n",
              "      <td>or dvd to kill mockingbird is still the best ...</td>\n",
              "      <td>0</td>\n",
              "      <td>0</td>\n",
              "      <td>0</td>\n",
              "      <td>0</td>\n",
              "      <td>0</td>\n",
              "      <td>0</td>\n",
              "      <td>0</td>\n",
              "    </tr>\n",
              "  </tbody>\n",
              "</table>\n",
              "<p>2208111 rows × 17 columns</p>\n",
              "</div>"
            ],
            "text/plain": [
              "                                             product_title  ... SVM_Pred\n",
              "0               The Sandman Vol. 1: Preludes and Nocturnes  ...        1\n",
              "1                       The 22 Immutable Laws of Marketing  ...        1\n",
              "2                                                  Contact  ...        1\n",
              "3                                               Good Omens  ...        1\n",
              "4                                  A Confederacy of Dunces  ...        1\n",
              "...                                                    ...  ...      ...\n",
              "2208106  AmazonBasics Backpack for SLR/DSLR Cameras and...  ...        0\n",
              "2208107                       Mad Max: Fury Road [Blu-ray]  ...        1\n",
              "2208108                           Criminal Minds: Season 8  ...        0\n",
              "2208109                  Breaking Bad: The Complete Series  ...        0\n",
              "2208110                    To Kill a Mockingbird [Blu-ray]  ...        0\n",
              "\n",
              "[2208111 rows x 17 columns]"
            ]
          },
          "metadata": {
            "tags": []
          },
          "execution_count": 122
        }
      ]
    },
    {
      "cell_type": "code",
      "metadata": {
        "id": "6FN-YuzkOnG2"
      },
      "source": [
        "# Saving the dataset into a dataframe from Google Drive\n",
        "\n",
        "df_clean.to_csv(r'/content/gdrive/MyDrive/DATA 606 - Capstone Project/amazon_reviews_result.csv', index = False)"
      ],
      "execution_count": 123,
      "outputs": []
    },
    {
      "cell_type": "code",
      "metadata": {
        "id": "0jvAtOCVTS8g"
      },
      "source": [
        ""
      ],
      "execution_count": null,
      "outputs": []
    }
  ]
}